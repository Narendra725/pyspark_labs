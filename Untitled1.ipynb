{
 "cells": [
  {
   "cell_type": "code",
   "execution_count": 1,
   "id": "30b4c43d",
   "metadata": {},
   "outputs": [],
   "source": [
    "import findspark\n",
    "findspark.init()"
   ]
  },
  {
   "cell_type": "code",
   "execution_count": 2,
   "id": "59fa3a7c",
   "metadata": {},
   "outputs": [
    {
     "name": "stderr",
     "output_type": "stream",
     "text": [
      "2023-11-07 10:59:21,659 WARN util.NativeCodeLoader: Unable to load native-hadoop library for your platform... using builtin-java classes where applicable\n",
      "Setting default log level to \"WARN\".\n",
      "To adjust logging level use sc.setLogLevel(newLevel). For SparkR, use setLogLevel(newLevel).\n"
     ]
    }
   ],
   "source": [
    "from pyspark.sql import SparkSession\n",
    "spark = SparkSession.builder.master(\"local[*]\").getOrCreate()"
   ]
  },
  {
   "cell_type": "code",
   "execution_count": 3,
   "id": "081c33ae",
   "metadata": {},
   "outputs": [],
   "source": [
    "from pyspark.sql.functions import *"
   ]
  },
  {
   "cell_type": "code",
   "execution_count": 5,
   "id": "6916de5f",
   "metadata": {},
   "outputs": [],
   "source": [
    "adv_path=\"file:///home/labuser/Downloads/43801857-7a5c-4d68-a1cc-3bd11a166912_83d04ac6-cb74-4a96-a06a-e0d5442aa126_advertising_spend.csv\"\n",
    "prod_path=\"file:///home/labuser/Downloads/53b473d6-8cfc-4518-88a7-02da0a690b68_83d04ac6-cb74-4a96-a06a-e0d5442aa126_products.csv\"\n",
    "sales_path=\"file:///home/labuser/Downloads/6650c551-5f2f-45b7-a9e7-d43d82422435_83d04ac6-cb74-4a96-a06a-e0d5442aa126_sales.csv\"\n",
    "feedback_path=\"file:///home/labuser/Downloads/197e029f-9cda-4fe7-bc6b-c6393382d61e_83d04ac6-cb74-4a96-a06a-e0d5442aa126_feedback.csv\"\n",
    "cust1_path=\"file:///home/labuser/Downloads/a80d3120-2e0f-49cb-970f-4e565587f45b_83d04ac6-cb74-4a96-a06a-e0d5442aa126_customers-1.csv\"\n",
    "cust2_path=\"file:///home/labuser/Downloads/71de6941-e785-4896-a297-a4ce99d26bf1_83d04ac6-cb74-4a96-a06a-e0d5442aa126_customers-2.csv\"\n",
    "\n"
   ]
  },
  {
   "cell_type": "code",
   "execution_count": 7,
   "id": "27704823",
   "metadata": {},
   "outputs": [
    {
     "name": "stderr",
     "output_type": "stream",
     "text": [
      "\r",
      "[Stage 0:>                                                          (0 + 1) / 1]\r",
      "\r",
      "                                                                                \r"
     ]
    }
   ],
   "source": [
    "adv_df = spark.read.format(\"csv\").option(\"header\", \"true\").option(\"inferSchema\", \"true\").load(adv_path)\n",
    "products_df = spark.read.format(\"csv\").option(\"header\", \"true\").option(\"inferSchema\", \"true\").load(prod_path)\n",
    "sales_df = spark.read.format(\"csv\").option(\"header\", \"true\").option(\"inferSchema\", \"true\").load(sales_path)\n",
    "feedback_df = spark.read.format(\"csv\").option(\"header\", \"true\").option(\"inferSchema\", \"true\").load(feedback_path)\n",
    "cust1_df = spark.read.format(\"csv\").option(\"header\", \"true\").option(\"inferSchema\", \"true\").load(cust1_path)\n",
    "cust2_df = spark.read.format(\"csv\").option(\"header\", \"true\").option(\"inferSchema\", \"true\").load(cust2_path)"
   ]
  },
  {
   "cell_type": "code",
   "execution_count": 16,
   "id": "780327ec",
   "metadata": {},
   "outputs": [
    {
     "name": "stdout",
     "output_type": "stream",
     "text": [
      "+---------+--------------------+-----+\n",
      "|ProductID|         ProductName|Price|\n",
      "+---------+--------------------+-----+\n",
      "|        1|     Apple iPhone 13|  799|\n",
      "|        2|Sony WH-1000XM4 H...|  278|\n",
      "|        3|\"Samsung 55\"\" QLE...| 1200|\n",
      "|        4|Apple Watch Series 7|  399|\n",
      "|        5|JBL Charge 5 Blue...|  179|\n",
      "|        6|Apple iPad Pro 11...|  749|\n",
      "+---------+--------------------+-----+\n",
      "\n",
      "+---------+-----------+-----+----+-----------+\n",
      "|ChannelID|ChannelName|Month|Year|AmountSpent|\n",
      "+---------+-----------+-----+----+-----------+\n",
      "|        1| Google Ads|    1|2021|      12648|\n",
      "|        2|    Youtube|    1|2021|       6216|\n",
      "|        3|   Facebook|    1|2021|      11283|\n",
      "|        4|  Instagram|    1|2021|      10327|\n",
      "|        5|   LinkedIn|    1|2021|      11561|\n",
      "|        1| Google Ads|    2|2021|      18610|\n",
      "|        2|    Youtube|    2|2021|      16135|\n",
      "|        3|   Facebook|    2|2021|       9449|\n",
      "|        4|  Instagram|    2|2021|      11805|\n",
      "|        5|   LinkedIn|    2|2021|      11542|\n",
      "|        1| Google Ads|    3|2021|      12525|\n",
      "|        2|    Youtube|    3|2021|      15996|\n",
      "|        3|   Facebook|    3|2021|      10623|\n",
      "|        4|  Instagram|    3|2021|       7862|\n",
      "|        5|   LinkedIn|    3|2021|       5753|\n",
      "|        1| Google Ads|    4|2021|      19144|\n",
      "|        2|    Youtube|    4|2021|      11426|\n",
      "|        3|   Facebook|    4|2021|      18058|\n",
      "|        4|  Instagram|    4|2021|      10736|\n",
      "|        5|   LinkedIn|    4|2021|       7530|\n",
      "+---------+-----------+-----+----+-----------+\n",
      "only showing top 20 rows\n",
      "\n",
      "+-------+----------+--------+---------+---------+----------+\n",
      "|SalesID|      Date|Quantity|ChannelID|ProductID|CustomerID|\n",
      "+-------+----------+--------+---------+---------+----------+\n",
      "|      1|2021-06-01|       1|        3|        1|         1|\n",
      "|      2|2022-05-02|       2|        1|        1|         2|\n",
      "|      3|2022-03-04|       2|        4|        1|         3|\n",
      "|      4|2022-06-24|       1|        4|        2|         4|\n",
      "|      5|2021-12-26|       4|        1|        1|         5|\n",
      "|      6|2022-08-04|       1|        2|        1|         6|\n",
      "|      7|2021-10-03|       1|        1|        1|         7|\n",
      "|      8|2021-08-27|       2|        2|        6|         8|\n",
      "|      9|2021-01-27|       2|        1|        1|         9|\n",
      "|     10|2022-07-04|       3|        2|        1|        10|\n",
      "|     11|2022-05-17|       2|        2|        6|        11|\n",
      "|     12|2021-03-15|       2|        3|        3|        12|\n",
      "|     13|2022-10-24|       3|        2|        1|        13|\n",
      "|     14|2021-12-10|       3|        3|        1|        14|\n",
      "|     15|2022-04-21|       2|        2|        2|        15|\n",
      "|     16|2021-08-17|       2|        4|        1|        16|\n",
      "|     17|2022-04-18|       3|        1|        1|        17|\n",
      "|     18|2021-03-18|       1|        4|        1|        18|\n",
      "|     19|2022-05-24|       2|        3|        2|        19|\n",
      "|     20|2022-04-18|       1|        3|        2|        20|\n",
      "+-------+----------+--------+---------+---------+----------+\n",
      "only showing top 20 rows\n",
      "\n"
     ]
    }
   ],
   "source": [
    "products_df.show()\n",
    "adv_df.show()\n",
    "sales_df.show()"
   ]
  },
  {
   "cell_type": "code",
   "execution_count": 33,
   "id": "cdc6f243",
   "metadata": {},
   "outputs": [
    {
     "name": "stdout",
     "output_type": "stream",
     "text": [
      "+-----------+\n",
      "|sum(amount)|\n",
      "+-----------+\n",
      "|    6069667|\n",
      "+-----------+\n",
      "\n"
     ]
    }
   ],
   "source": [
    "report0=sales_df.join(products_df,sales_df[\"ProductID\"]==products_df[\"ProductID\"],\"inner\").select(\"ProductName\",\"quantity\",\"Price\")\\\n",
    "        .selectExpr(\"ProductName\",\"(quantity * Price) as amount\")\n",
    "report0.selectExpr(\"sum(amount)\").show()"
   ]
  },
  {
   "cell_type": "code",
   "execution_count": 35,
   "id": "f363b17e",
   "metadata": {},
   "outputs": [
    {
     "name": "stdout",
     "output_type": "stream",
     "text": [
      "+--------------------+-------+\n",
      "|         ProductName| amount|\n",
      "+--------------------+-------+\n",
      "|     Apple iPhone 13|2249185|\n",
      "|\"Samsung 55\"\" QLE...|1486800|\n",
      "|Apple iPad Pro 11...| 918274|\n",
      "+--------------------+-------+\n",
      "only showing top 3 rows\n",
      "\n"
     ]
    }
   ],
   "source": [
    "report1=sales_df.join(products_df,sales_df[\"ProductID\"]==products_df[\"ProductID\"],\"inner\").select(\"ProductName\",\"quantity\",\"Price\")\\\n",
    "        .selectExpr(\"ProductName\",\"(quantity * Price) as amount\").groupBy(\"ProductName\").agg(sum(\"amount\").alias(\"amount\"))\\\n",
    "        .orderBy(col(\"amount\").desc())\n",
    "report1.show(3)"
   ]
  },
  {
   "cell_type": "code",
   "execution_count": 43,
   "id": "a5d10a45",
   "metadata": {},
   "outputs": [
    {
     "name": "stdout",
     "output_type": "stream",
     "text": [
      "+-----------+-----------+\n",
      "|ChannelName|total_spent|\n",
      "+-----------+-----------+\n",
      "| Google Ads|     327598|\n",
      "+-----------+-----------+\n",
      "only showing top 1 row\n",
      "\n"
     ]
    }
   ],
   "source": [
    "report2=adv_df.groupBy(\"ChannelName\").agg(sum(\"AmountSpent\").alias(\"total_spent\")).orderBy(col(\"total_spent\").desc())\n",
    "report2.show(1)"
   ]
  },
  {
   "cell_type": "code",
   "execution_count": 47,
   "id": "eb8dec60",
   "metadata": {
    "scrolled": true
   },
   "outputs": [
    {
     "name": "stdout",
     "output_type": "stream",
     "text": [
      "+---------+----------+-------------+\n",
      "|ProductID|CustomerID|avg(Quantity)|\n",
      "+---------+----------+-------------+\n",
      "|        6|      3770|          2.0|\n",
      "|        6|      3216|          3.0|\n",
      "|        6|      4043|          2.0|\n",
      "|        6|      4926|          3.0|\n",
      "|        6|      4932|          1.0|\n",
      "|        6|      2587|          2.0|\n",
      "|        6|      1506|          2.0|\n",
      "|        6|      2725|          1.0|\n",
      "|        6|      1873|          3.0|\n",
      "|        6|      1741|          3.0|\n",
      "|        6|      3648|          4.0|\n",
      "|        6|      4660|          3.0|\n",
      "|        6|      1184|          2.0|\n",
      "|        6|       508|          3.0|\n",
      "|        6|      3271|          1.0|\n",
      "|        6|      2335|          1.0|\n",
      "|        6|      2280|          3.0|\n",
      "|        6|      4219|          2.0|\n",
      "|        6|      3913|          1.0|\n",
      "|        6|      1572|          3.0|\n",
      "+---------+----------+-------------+\n",
      "only showing top 20 rows\n",
      "\n"
     ]
    }
   ],
   "source": [
    "sales_df.groupBy(\"ProductID\",\"CustomerID\").agg(avg(\"Quantity\")).orderBy(col(\"ProductID\").desc()).show()"
   ]
  },
  {
   "cell_type": "code",
   "execution_count": 66,
   "id": "0841ae72",
   "metadata": {},
   "outputs": [
    {
     "name": "stdout",
     "output_type": "stream",
     "text": [
      "+---------+-------------+-----------------+\n",
      "|ProductID|sum(quantity)|sum(sales_amount)|\n",
      "+---------+-------------+-----------------+\n",
      "|        1|         2815|          2249185|\n",
      "|        6|         1226|           918274|\n",
      "|        3|         1239|          1486800|\n",
      "|        5|         1161|           207819|\n",
      "|        4|         1153|           460047|\n",
      "|        2|         2689|           747542|\n",
      "+---------+-------------+-----------------+\n",
      "\n"
     ]
    }
   ],
   "source": [
    "b1=sales_df.groupBy(\"ProductID\").agg(sum(\"quantity\"))\n",
    "b2=sales_df.join(products_df,[\"ProductID\"],\"inner\")\\\n",
    "                .selectExpr(\"ProductID\",\"(quantity * Price) as sales_amount\")\\\n",
    "                .groupBy(\"ProductID\").agg(sum(\"sales_amount\"))\n",
    "b3=b1.join(b2,[\"ProductID\"])\n",
    "b3.show()"
   ]
  },
  {
   "cell_type": "code",
   "execution_count": 67,
   "id": "c7338852",
   "metadata": {},
   "outputs": [
    {
     "name": "stdout",
     "output_type": "stream",
     "text": [
      "+---------+-------------+-----------------+----------------------+\n",
      "|ProductID|sum(quantity)|sum(sales_amount)|discounted_total_sales|\n",
      "+---------+-------------+-----------------+----------------------+\n",
      "|        1|         2815|          2249185|             2024266.5|\n",
      "|        6|         1226|           918274|              826446.6|\n",
      "|        3|         1239|          1486800|             1338120.0|\n",
      "|        5|         1161|           207819|              187037.1|\n",
      "|        4|         1153|           460047|              414042.3|\n",
      "|        2|         2689|           747542|              672787.8|\n",
      "+---------+-------------+-----------------+----------------------+\n",
      "\n"
     ]
    }
   ],
   "source": [
    "result_df = b3.withColumn(\n",
    "    \"discounted_total_sales\",\n",
    "    when(col(\"sum(quantity)\") > 100, col(\"sum(sales_amount)\") * 0.9).otherwise(col(\"sum(sales_amount)\"))\n",
    ").show()"
   ]
  },
  {
   "cell_type": "code",
   "execution_count": 72,
   "id": "18c34b0f",
   "metadata": {},
   "outputs": [
    {
     "name": "stdout",
     "output_type": "stream",
     "text": [
      "+-------+----------+--------+---------+---------+----------+\n",
      "|SalesID|      Date|Quantity|ChannelID|ProductID|CustomerID|\n",
      "+-------+----------+--------+---------+---------+----------+\n",
      "|      1|2021-06-01|       1|        3|        1|         1|\n",
      "|      2|2022-05-02|       2|        1|        1|         2|\n",
      "|      3|2022-03-04|       2|        4|        1|         3|\n",
      "|      4|2022-06-24|       1|        4|        2|         4|\n",
      "|      5|2021-12-26|       4|        1|        1|         5|\n",
      "|      6|2022-08-04|       1|        2|        1|         6|\n",
      "|      7|2021-10-03|       1|        1|        1|         7|\n",
      "|      8|2021-08-27|       2|        2|        6|         8|\n",
      "|      9|2021-01-27|       2|        1|        1|         9|\n",
      "|     10|2022-07-04|       3|        2|        1|        10|\n",
      "|     11|2022-05-17|       2|        2|        6|        11|\n",
      "|     12|2021-03-15|       2|        3|        3|        12|\n",
      "|     13|2022-10-24|       3|        2|        1|        13|\n",
      "|     14|2021-12-10|       3|        3|        1|        14|\n",
      "|     15|2022-04-21|       2|        2|        2|        15|\n",
      "|     16|2021-08-17|       2|        4|        1|        16|\n",
      "|     17|2022-04-18|       3|        1|        1|        17|\n",
      "|     18|2021-03-18|       1|        4|        1|        18|\n",
      "|     19|2022-05-24|       2|        3|        2|        19|\n",
      "|     20|2022-04-18|       1|        3|        2|        20|\n",
      "+-------+----------+--------+---------+---------+----------+\n",
      "only showing top 20 rows\n",
      "\n"
     ]
    }
   ],
   "source": [
    "sales_df.show()"
   ]
  },
  {
   "cell_type": "code",
   "execution_count": 75,
   "id": "2f417ef0",
   "metadata": {},
   "outputs": [
    {
     "name": "stdout",
     "output_type": "stream",
     "text": [
      "+-------+----------+--------+---------+---------+----------+---------+\n",
      "|SalesID|      Date|Quantity|ChannelID|ProductID|CustomerID|isweekday|\n",
      "+-------+----------+--------+---------+---------+----------+---------+\n",
      "|      1|2021-06-01|       1|        3|        1|         1|        3|\n",
      "|      2|2022-05-02|       2|        1|        1|         2|        2|\n",
      "|      3|2022-03-04|       2|        4|        1|         3|        6|\n",
      "|      4|2022-06-24|       1|        4|        2|         4|        6|\n",
      "|      5|2021-12-26|       4|        1|        1|         5|        1|\n",
      "|      6|2022-08-04|       1|        2|        1|         6|        5|\n",
      "|      7|2021-10-03|       1|        1|        1|         7|        1|\n",
      "|      8|2021-08-27|       2|        2|        6|         8|        6|\n",
      "|      9|2021-01-27|       2|        1|        1|         9|        4|\n",
      "|     10|2022-07-04|       3|        2|        1|        10|        2|\n",
      "|     11|2022-05-17|       2|        2|        6|        11|        3|\n",
      "|     12|2021-03-15|       2|        3|        3|        12|        2|\n",
      "|     13|2022-10-24|       3|        2|        1|        13|        2|\n",
      "|     14|2021-12-10|       3|        3|        1|        14|        6|\n",
      "|     15|2022-04-21|       2|        2|        2|        15|        5|\n",
      "|     16|2021-08-17|       2|        4|        1|        16|        3|\n",
      "|     17|2022-04-18|       3|        1|        1|        17|        2|\n",
      "|     18|2021-03-18|       1|        4|        1|        18|        5|\n",
      "|     19|2022-05-24|       2|        3|        2|        19|        3|\n",
      "|     20|2022-04-18|       1|        3|        2|        20|        2|\n",
      "+-------+----------+--------+---------+---------+----------+---------+\n",
      "only showing top 20 rows\n",
      "\n"
     ]
    }
   ],
   "source": [
    "sales_df.withColumn(\"isweekday\",dayofweek(col(\"Date\").cast(\"Date\"))).show()"
   ]
  },
  {
   "cell_type": "code",
   "execution_count": 76,
   "id": "559b5e02",
   "metadata": {},
   "outputs": [
    {
     "ename": "AnalysisException",
     "evalue": "cannot resolve '`SalesAmount`' given input columns: [Category, ChannelID, CustomerID, Date, DayOfWeek, ProductID, Quantity, SalesID];\n'Aggregate [Category#1963], [Category#1963, sum('SalesAmount) AS TotalSalesRevenue#1981]\n+- Project [SalesID#64, Date#1948, Quantity#66, ChannelID#67, ProductID#68, CustomerID#69, DayOfWeek#1955, CASE WHEN DayOfWeek#1955 IN (Sat,Sun) THEN Weekend ELSE Weekday END AS Category#1963]\n   +- Project [SalesID#64, Date#1948, Quantity#66, ChannelID#67, ProductID#68, CustomerID#69, date_format(cast(Date#1948 as timestamp), E, Some(UTC)) AS DayOfWeek#1955]\n      +- Project [SalesID#64, to_date('Date, Some(yyyy-MM-dd)) AS Date#1948, Quantity#66, ChannelID#67, ProductID#68, CustomerID#69]\n         +- Relation[SalesID#64,Date#65,Quantity#66,ChannelID#67,ProductID#68,CustomerID#69] csv\n",
     "output_type": "error",
     "traceback": [
      "\u001b[0;31m---------------------------------------------------------------------------\u001b[0m",
      "\u001b[0;31mAnalysisException\u001b[0m                         Traceback (most recent call last)",
      "Input \u001b[0;32mIn [76]\u001b[0m, in \u001b[0;36m<cell line: 7>\u001b[0;34m()\u001b[0m\n\u001b[1;32m      3\u001b[0m sales_df\u001b[38;5;241m=\u001b[39msales_df\u001b[38;5;241m.\u001b[39mwithColumn(\u001b[38;5;124m\"\u001b[39m\u001b[38;5;124mDayOfWeek\u001b[39m\u001b[38;5;124m\"\u001b[39m, date_format(col(\u001b[38;5;124m\"\u001b[39m\u001b[38;5;124mDate\u001b[39m\u001b[38;5;124m\"\u001b[39m), \u001b[38;5;124m\"\u001b[39m\u001b[38;5;124mE\u001b[39m\u001b[38;5;124m\"\u001b[39m)) \\\n\u001b[1;32m      4\u001b[0m                      \u001b[38;5;241m.\u001b[39mwithColumn(\u001b[38;5;124m\"\u001b[39m\u001b[38;5;124mCategory\u001b[39m\u001b[38;5;124m\"\u001b[39m, when(col(\u001b[38;5;124m\"\u001b[39m\u001b[38;5;124mDayOfWeek\u001b[39m\u001b[38;5;124m\"\u001b[39m)\u001b[38;5;241m.\u001b[39misin(\u001b[38;5;124m\"\u001b[39m\u001b[38;5;124mSat\u001b[39m\u001b[38;5;124m\"\u001b[39m, \u001b[38;5;124m\"\u001b[39m\u001b[38;5;124mSun\u001b[39m\u001b[38;5;124m\"\u001b[39m), \u001b[38;5;124m\"\u001b[39m\u001b[38;5;124mWeekend\u001b[39m\u001b[38;5;124m\"\u001b[39m)\u001b[38;5;241m.\u001b[39motherwise(\u001b[38;5;124m\"\u001b[39m\u001b[38;5;124mWeekday\u001b[39m\u001b[38;5;124m\"\u001b[39m))\n\u001b[1;32m      6\u001b[0m \u001b[38;5;66;03m# Calculate the total sales revenue for weekends and weekdays\u001b[39;00m\n\u001b[0;32m----> 7\u001b[0m total_sales_revenue \u001b[38;5;241m=\u001b[39m \u001b[43msales_df\u001b[49m\u001b[38;5;241;43m.\u001b[39;49m\u001b[43mgroupBy\u001b[49m\u001b[43m(\u001b[49m\u001b[38;5;124;43m\"\u001b[39;49m\u001b[38;5;124;43mCategory\u001b[39;49m\u001b[38;5;124;43m\"\u001b[39;49m\u001b[43m)\u001b[49m\u001b[43m \u001b[49m\u001b[43m\\\u001b[49m\n\u001b[1;32m      8\u001b[0m \u001b[43m                               \u001b[49m\u001b[38;5;241;43m.\u001b[39;49m\u001b[43magg\u001b[49m\u001b[43m(\u001b[49m\u001b[38;5;28;43msum\u001b[39;49m\u001b[43m(\u001b[49m\u001b[38;5;124;43m\"\u001b[39;49m\u001b[38;5;124;43mSalesAmount\u001b[39;49m\u001b[38;5;124;43m\"\u001b[39;49m\u001b[43m)\u001b[49m\u001b[38;5;241;43m.\u001b[39;49m\u001b[43malias\u001b[49m\u001b[43m(\u001b[49m\u001b[38;5;124;43m\"\u001b[39;49m\u001b[38;5;124;43mTotalSalesRevenue\u001b[39;49m\u001b[38;5;124;43m\"\u001b[39;49m\u001b[43m)\u001b[49m\u001b[43m)\u001b[49m\u001b[38;5;241m.\u001b[39mshow()\n",
      "File \u001b[0;32m/usr/local/hadoop/spark-3.1.2/python/pyspark/sql/group.py:118\u001b[0m, in \u001b[0;36mGroupedData.agg\u001b[0;34m(self, *exprs)\u001b[0m\n\u001b[1;32m    115\u001b[0m \u001b[38;5;28;01melse\u001b[39;00m:\n\u001b[1;32m    116\u001b[0m     \u001b[38;5;66;03m# Columns\u001b[39;00m\n\u001b[1;32m    117\u001b[0m     \u001b[38;5;28;01massert\u001b[39;00m \u001b[38;5;28mall\u001b[39m(\u001b[38;5;28misinstance\u001b[39m(c, Column) \u001b[38;5;28;01mfor\u001b[39;00m c \u001b[38;5;129;01min\u001b[39;00m exprs), \u001b[38;5;124m\"\u001b[39m\u001b[38;5;124mall exprs should be Column\u001b[39m\u001b[38;5;124m\"\u001b[39m\n\u001b[0;32m--> 118\u001b[0m     jdf \u001b[38;5;241m=\u001b[39m \u001b[38;5;28;43mself\u001b[39;49m\u001b[38;5;241;43m.\u001b[39;49m\u001b[43m_jgd\u001b[49m\u001b[38;5;241;43m.\u001b[39;49m\u001b[43magg\u001b[49m\u001b[43m(\u001b[49m\u001b[43mexprs\u001b[49m\u001b[43m[\u001b[49m\u001b[38;5;241;43m0\u001b[39;49m\u001b[43m]\u001b[49m\u001b[38;5;241;43m.\u001b[39;49m\u001b[43m_jc\u001b[49m\u001b[43m,\u001b[49m\n\u001b[1;32m    119\u001b[0m \u001b[43m                        \u001b[49m\u001b[43m_to_seq\u001b[49m\u001b[43m(\u001b[49m\u001b[38;5;28;43mself\u001b[39;49m\u001b[38;5;241;43m.\u001b[39;49m\u001b[43msql_ctx\u001b[49m\u001b[38;5;241;43m.\u001b[39;49m\u001b[43m_sc\u001b[49m\u001b[43m,\u001b[49m\u001b[43m \u001b[49m\u001b[43m[\u001b[49m\u001b[43mc\u001b[49m\u001b[38;5;241;43m.\u001b[39;49m\u001b[43m_jc\u001b[49m\u001b[43m \u001b[49m\u001b[38;5;28;43;01mfor\u001b[39;49;00m\u001b[43m \u001b[49m\u001b[43mc\u001b[49m\u001b[43m \u001b[49m\u001b[38;5;129;43;01min\u001b[39;49;00m\u001b[43m \u001b[49m\u001b[43mexprs\u001b[49m\u001b[43m[\u001b[49m\u001b[38;5;241;43m1\u001b[39;49m\u001b[43m:\u001b[49m\u001b[43m]\u001b[49m\u001b[43m]\u001b[49m\u001b[43m)\u001b[49m\u001b[43m)\u001b[49m\n\u001b[1;32m    120\u001b[0m \u001b[38;5;28;01mreturn\u001b[39;00m DataFrame(jdf, \u001b[38;5;28mself\u001b[39m\u001b[38;5;241m.\u001b[39msql_ctx)\n",
      "File \u001b[0;32m/usr/local/hadoop/spark-3.1.2/python/lib/py4j-0.10.9-src.zip/py4j/java_gateway.py:1304\u001b[0m, in \u001b[0;36mJavaMember.__call__\u001b[0;34m(self, *args)\u001b[0m\n\u001b[1;32m   1298\u001b[0m command \u001b[38;5;241m=\u001b[39m proto\u001b[38;5;241m.\u001b[39mCALL_COMMAND_NAME \u001b[38;5;241m+\u001b[39m\\\n\u001b[1;32m   1299\u001b[0m     \u001b[38;5;28mself\u001b[39m\u001b[38;5;241m.\u001b[39mcommand_header \u001b[38;5;241m+\u001b[39m\\\n\u001b[1;32m   1300\u001b[0m     args_command \u001b[38;5;241m+\u001b[39m\\\n\u001b[1;32m   1301\u001b[0m     proto\u001b[38;5;241m.\u001b[39mEND_COMMAND_PART\n\u001b[1;32m   1303\u001b[0m answer \u001b[38;5;241m=\u001b[39m \u001b[38;5;28mself\u001b[39m\u001b[38;5;241m.\u001b[39mgateway_client\u001b[38;5;241m.\u001b[39msend_command(command)\n\u001b[0;32m-> 1304\u001b[0m return_value \u001b[38;5;241m=\u001b[39m \u001b[43mget_return_value\u001b[49m\u001b[43m(\u001b[49m\n\u001b[1;32m   1305\u001b[0m \u001b[43m    \u001b[49m\u001b[43manswer\u001b[49m\u001b[43m,\u001b[49m\u001b[43m \u001b[49m\u001b[38;5;28;43mself\u001b[39;49m\u001b[38;5;241;43m.\u001b[39;49m\u001b[43mgateway_client\u001b[49m\u001b[43m,\u001b[49m\u001b[43m \u001b[49m\u001b[38;5;28;43mself\u001b[39;49m\u001b[38;5;241;43m.\u001b[39;49m\u001b[43mtarget_id\u001b[49m\u001b[43m,\u001b[49m\u001b[43m \u001b[49m\u001b[38;5;28;43mself\u001b[39;49m\u001b[38;5;241;43m.\u001b[39;49m\u001b[43mname\u001b[49m\u001b[43m)\u001b[49m\n\u001b[1;32m   1307\u001b[0m \u001b[38;5;28;01mfor\u001b[39;00m temp_arg \u001b[38;5;129;01min\u001b[39;00m temp_args:\n\u001b[1;32m   1308\u001b[0m     temp_arg\u001b[38;5;241m.\u001b[39m_detach()\n",
      "File \u001b[0;32m/usr/local/hadoop/spark-3.1.2/python/pyspark/sql/utils.py:117\u001b[0m, in \u001b[0;36mcapture_sql_exception.<locals>.deco\u001b[0;34m(*a, **kw)\u001b[0m\n\u001b[1;32m    113\u001b[0m converted \u001b[38;5;241m=\u001b[39m convert_exception(e\u001b[38;5;241m.\u001b[39mjava_exception)\n\u001b[1;32m    114\u001b[0m \u001b[38;5;28;01mif\u001b[39;00m \u001b[38;5;129;01mnot\u001b[39;00m \u001b[38;5;28misinstance\u001b[39m(converted, UnknownException):\n\u001b[1;32m    115\u001b[0m     \u001b[38;5;66;03m# Hide where the exception came from that shows a non-Pythonic\u001b[39;00m\n\u001b[1;32m    116\u001b[0m     \u001b[38;5;66;03m# JVM exception message.\u001b[39;00m\n\u001b[0;32m--> 117\u001b[0m     \u001b[38;5;28;01mraise\u001b[39;00m converted \u001b[38;5;28;01mfrom\u001b[39;00m \u001b[38;5;28mNone\u001b[39m\n\u001b[1;32m    118\u001b[0m \u001b[38;5;28;01melse\u001b[39;00m:\n\u001b[1;32m    119\u001b[0m     \u001b[38;5;28;01mraise\u001b[39;00m\n",
      "\u001b[0;31mAnalysisException\u001b[0m: cannot resolve '`SalesAmount`' given input columns: [Category, ChannelID, CustomerID, Date, DayOfWeek, ProductID, Quantity, SalesID];\n'Aggregate [Category#1963], [Category#1963, sum('SalesAmount) AS TotalSalesRevenue#1981]\n+- Project [SalesID#64, Date#1948, Quantity#66, ChannelID#67, ProductID#68, CustomerID#69, DayOfWeek#1955, CASE WHEN DayOfWeek#1955 IN (Sat,Sun) THEN Weekend ELSE Weekday END AS Category#1963]\n   +- Project [SalesID#64, Date#1948, Quantity#66, ChannelID#67, ProductID#68, CustomerID#69, date_format(cast(Date#1948 as timestamp), E, Some(UTC)) AS DayOfWeek#1955]\n      +- Project [SalesID#64, to_date('Date, Some(yyyy-MM-dd)) AS Date#1948, Quantity#66, ChannelID#67, ProductID#68, CustomerID#69]\n         +- Relation[SalesID#64,Date#65,Quantity#66,ChannelID#67,ProductID#68,CustomerID#69] csv\n"
     ]
    }
   ],
   "source": [
    "sales_df=sales_df.withColumn(\"Date\", to_date(col(\"Date\"), \"yyyy-MM-dd\"))\n",
    "\n",
    "sales_df=sales_df.withColumn(\"DayOfWeek\", date_format(col(\"Date\"), \"E\")) \\\n",
    "                     .withColumn(\"Category\", when(col(\"DayOfWeek\").isin(\"Sat\", \"Sun\"), \"Weekend\").otherwise(\"Weekday\"))\n",
    "\n",
    "# Calculate the total sales revenue for weekends and weekdays\n",
    "total_sales_revenue = sales_df.groupBy(\"Category\") \\\n",
    "                               .agg(sum(\"SalesAmount\").alias(\"TotalSalesRevenue\")).show()\n"
   ]
  }
 ],
 "metadata": {
  "kernelspec": {
   "display_name": "Python 3 (ipykernel)",
   "language": "python",
   "name": "python3"
  },
  "language_info": {
   "codemirror_mode": {
    "name": "ipython",
    "version": 3
   },
   "file_extension": ".py",
   "mimetype": "text/x-python",
   "name": "python",
   "nbconvert_exporter": "python",
   "pygments_lexer": "ipython3",
   "version": "3.9.12"
  }
 },
 "nbformat": 4,
 "nbformat_minor": 5
}
