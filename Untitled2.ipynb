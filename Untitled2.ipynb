{
 "cells": [
  {
   "cell_type": "code",
   "execution_count": 1,
   "id": "8ed2644e",
   "metadata": {},
   "outputs": [],
   "source": [
    "import findspark\n",
    "findspark.init()"
   ]
  },
  {
   "cell_type": "code",
   "execution_count": 2,
   "id": "a4bdbb90",
   "metadata": {
    "scrolled": false
   },
   "outputs": [
    {
     "name": "stderr",
     "output_type": "stream",
     "text": [
      "2023-11-09 04:45:51,688 WARN util.NativeCodeLoader: Unable to load native-hadoop library for your platform... using builtin-java classes where applicable\n",
      "Setting default log level to \"WARN\".\n",
      "To adjust logging level use sc.setLogLevel(newLevel). For SparkR, use setLogLevel(newLevel).\n"
     ]
    }
   ],
   "source": [
    "from pyspark.sql import SparkSession\n",
    "spark = SparkSession.builder.master(\"local[*]\").getOrCreate()"
   ]
  },
  {
   "cell_type": "code",
   "execution_count": 3,
   "id": "9bcd0bc3",
   "metadata": {},
   "outputs": [],
   "source": [
    "from pyspark.sql.functions import *"
   ]
  },
  {
   "cell_type": "code",
   "execution_count": 4,
   "id": "9e2477d2",
   "metadata": {},
   "outputs": [
    {
     "name": "stderr",
     "output_type": "stream",
     "text": [
      "                                                                                \r"
     ]
    },
    {
     "name": "stdout",
     "output_type": "stream",
     "text": [
      "+--------+----------+--------------+--------+---------+\n",
      "|    kind|      make|         model|   price|    style|\n",
      "+--------+----------+--------------+--------+---------+\n",
      "|electric|     Telsa|       Model S| 71000.0|    sedan|\n",
      "|  hybrid|      Audi|     A3 E-Tron| 37900.0|   luxury|\n",
      "|  hybrid|       BMW|          330e| 43700.0|    sedan|\n",
      "|electric|       BMW|            i3| 43300.0|    sedan|\n",
      "|  hybrid|       BMW|            i8|137000.0|    coupe|\n",
      "|  hybrid|       BMW|  X5 xdrive40e| 64000.0|      suv|\n",
      "|electric|     Chevy|      Spark EV| 26000.0|    coupe|\n",
      "|electric|     Chevy|          Volt| 34000.0|    sedan|\n",
      "|electric|      Fiat|          500e| 32600.0|    coupe|\n",
      "|  hybrid|      Ford|  C-Max Energi| 32600.0|wagon/van|\n",
      "|electric|      Ford|Focus Electric| 29200.0|    sedan|\n",
      "|electric|      Ford| Fusion Energi| 33900.0|    sedan|\n",
      "|  hybrid|   Hyundai|        Sonata| 35400.0|    sedan|\n",
      "|electric|       Kia|       Soul EV| 34500.0|    sedan|\n",
      "|electric|  Mercedes|       B-Class| 42400.0|    sedan|\n",
      "|  hybrid|  Mercedes|          C350| 46400.0|    sedan|\n",
      "|  hybrid|  Mercedes|       GLE500e| 67000.0|      suv|\n",
      "|electric|Mitsubishi|        i-MiEV| 23800.0|    sedan|\n",
      "|electric|    Nissan|          LEAF| 29000.0|    sedan|\n",
      "|  hybrid|   Porsche|       Cayenne| 78000.0|      suv|\n",
      "+--------+----------+--------------+--------+---------+\n",
      "only showing top 20 rows\n",
      "\n"
     ]
    }
   ],
   "source": [
    "data_df=spark.read.format(\"json\").load(\"file:/home/labuser/Downloads/688b97cc-73ed-4262-b3be-6ef274e26311_83d04ac6-cb74-4a96-a06a-e0d5442aa126_cars.json\")\n",
    "data_df.show()"
   ]
  },
  {
   "cell_type": "code",
   "execution_count": 5,
   "id": "cb2e860e",
   "metadata": {},
   "outputs": [
    {
     "name": "stderr",
     "output_type": "stream",
     "text": [
      "                                                                                \r"
     ]
    },
    {
     "data": {
      "text/plain": [
       "15"
      ]
     },
     "execution_count": 5,
     "metadata": {},
     "output_type": "execute_result"
    }
   ],
   "source": [
    "data_df.select(\"make\").distinct().count()"
   ]
  },
  {
   "cell_type": "code",
   "execution_count": 6,
   "id": "6bca1d26",
   "metadata": {},
   "outputs": [
    {
     "data": {
      "text/plain": [
       "9"
      ]
     },
     "execution_count": 6,
     "metadata": {},
     "output_type": "execute_result"
    }
   ],
   "source": [
    "data_df.select(\"price\").filter(\"price > 60000\").count()"
   ]
  },
  {
   "cell_type": "code",
   "execution_count": 9,
   "id": "9493f80d",
   "metadata": {
    "scrolled": true
   },
   "outputs": [
    {
     "name": "stdout",
     "output_type": "stream",
     "text": [
      "+---------+--------+----------+---------+\n",
      "|    style|    kind|      make|ispremium|\n",
      "+---------+--------+----------+---------+\n",
      "|wagon/van|  hybrid|      Ford|        0|\n",
      "|      suv|  hybrid|     Volvo|        1|\n",
      "|      suv|  hybrid|       BMW|        1|\n",
      "|      suv|  hybrid|  Mercedes|        1|\n",
      "|      suv|  hybrid|   Porsche|        1|\n",
      "|      suv|electric|     Tesla|        1|\n",
      "|    sedan|electric|     Telsa|        1|\n",
      "|    sedan|electric|      Ford|        0|\n",
      "|    sedan|electric|       BMW|        0|\n",
      "|    sedan|  hybrid|       BMW|        0|\n",
      "|    sedan|  hybrid|   Hyundai|        0|\n",
      "|    sedan|electric|       Kia|        0|\n",
      "|    sedan|  hybrid|  Mercedes|        0|\n",
      "|    sedan|electric|    Nissan|        0|\n",
      "|    sedan|electric|     Chevy|        0|\n",
      "|    sedan|electric|      Ford|        0|\n",
      "|    sedan|electric|  Mercedes|        0|\n",
      "|    sedan|electric|Mitsubishi|        0|\n",
      "|    sedan|  hybrid|   Porsche|        1|\n",
      "|    sedan|electric|     Tesla|        0|\n",
      "+---------+--------+----------+---------+\n",
      "only showing top 20 rows\n",
      "\n"
     ]
    }
   ],
   "source": [
    "b1=data_df.withColumn(\"ispremium\",when(col(\"price\")>60000,'1').otherwise(\"0\")).select(\"style\",\"kind\",\"make\",\"ispremium\")\n",
    "b1.orderBy(col(\"style\").desc()).show()"
   ]
  },
  {
   "cell_type": "code",
   "execution_count": 12,
   "id": "e83ec0cd",
   "metadata": {},
   "outputs": [
    {
     "name": "stdout",
     "output_type": "stream",
     "text": [
      "+---------+-----------------+\n",
      "|    style|       avg(price)|\n",
      "+---------+-----------------+\n",
      "|   luxury|          37900.0|\n",
      "|    coupe|          67900.0|\n",
      "|      suv|          71600.0|\n",
      "|    sedan|42471.42857142857|\n",
      "|wagon/van|          32600.0|\n",
      "+---------+-----------------+\n",
      "\n"
     ]
    }
   ],
   "source": [
    "data_df.groupBy(\"style\").agg(avg(\"price\")).show()"
   ]
  },
  {
   "cell_type": "code",
   "execution_count": 39,
   "id": "15e23f10",
   "metadata": {},
   "outputs": [
    {
     "name": "stdout",
     "output_type": "stream",
     "text": [
      "root\n",
      " |-- age: long (nullable = true)\n",
      " |-- countryCode: string (nullable = true)\n",
      " |-- familyName: string (nullable = true)\n",
      " |-- id: string (nullable = true)\n",
      " |-- name: string (nullable = true)\n",
      "\n",
      "+---+-----------+-----------+---+---------+\n",
      "|age|countryCode| familyName| id|     name|\n",
      "+---+-----------+-----------+---+---------+\n",
      "| 33|         US|familyName1|  1|testName1|\n",
      "| 43|         DE|familyName2|  2|testName2|\n",
      "| 53|         US|familyName3|  3|testName3|\n",
      "| 63|         CH|familyName4|  4|testName4|\n",
      "| 73|         US|familyName5|  5|testName5|\n",
      "| 23|         DE|familyName6|  6|testName6|\n",
      "| 36|         US|familyName7|  7|testName7|\n",
      "| 38|         CH|familyName8|  8|testName8|\n",
      "+---+-----------+-----------+---+---------+\n",
      "\n"
     ]
    }
   ],
   "source": [
    "\n",
    "\n",
    "data_df=spark.read.option(\"multiline\",\"true\").format(\"json\").load(\"file:/home/labuser/Downloads/bb886084-3fc4-467d-b6c7-f55ae81b4f75_83d04ac6-cb74-4a96-a06a-e0d5442aa126_client.json\")\n",
    "data_df.printSchema()\n",
    "data_df.show()"
   ]
  },
  {
   "cell_type": "code",
   "execution_count": 33,
   "id": "146e8466",
   "metadata": {},
   "outputs": [
    {
     "name": "stdout",
     "output_type": "stream",
     "text": [
      "+-----------+-------------------------+---------------------+---------------------+------------------------+-----------------------------------+\n",
      "|countryCode|The Average age of Client|The Max age of Client|The Min age of Client|The Median age of Client|count(age AS `Total No of clients`)|\n",
      "+-----------+-------------------------+---------------------+---------------------+------------------------+-----------------------------------+\n",
      "|         US|                    48.75|                   73|                   33|                      36|                                  4|\n",
      "|         DE|                     33.0|                   43|                   23|                      23|                                  2|\n",
      "|         CH|                     50.5|                   63|                   38|                      38|                                  2|\n",
      "+-----------+-------------------------+---------------------+---------------------+------------------------+-----------------------------------+\n",
      "\n"
     ]
    }
   ],
   "source": [
    "result_df = data_df.groupBy(\"countryCode\") \\\n",
    "    .agg(\n",
    "        avg(\"age\").alias(\"The Average age of Client\"),\n",
    "        max(col(\"age\")).alias(\"The Max age of Client\"),\n",
    "        min(col(\"age\")).alias(\"The Min age of Client\"),\n",
    "        percentile_approx(col(\"age\"), 0.5).alias(\"The Median age of Client\"),\n",
    "        count(col(\"age\").alias(\"Total No of clients\"))\n",
    "    ) \\\n",
    "    .orderBy(col(\"countryCode\").desc())\n",
    "\n",
    "result_df.show()\n",
    "\n"
   ]
  },
  {
   "cell_type": "code",
   "execution_count": 4,
   "id": "7292b92b",
   "metadata": {},
   "outputs": [
    {
     "name": "stderr",
     "output_type": "stream",
     "text": [
      "                                                                                \r"
     ]
    },
    {
     "name": "stdout",
     "output_type": "stream",
     "text": [
      "root\n",
      " |-- _id: struct (nullable = true)\n",
      " |    |-- $oid: string (nullable = true)\n",
      " |-- acquisition: struct (nullable = true)\n",
      " |    |-- acquired_day: long (nullable = true)\n",
      " |    |-- acquired_month: long (nullable = true)\n",
      " |    |-- acquired_year: long (nullable = true)\n",
      " |    |-- acquiring_company: struct (nullable = true)\n",
      " |    |    |-- name: string (nullable = true)\n",
      " |    |    |-- permalink: string (nullable = true)\n",
      " |    |-- price_amount: long (nullable = true)\n",
      " |    |-- price_currency_code: string (nullable = true)\n",
      " |    |-- source_description: string (nullable = true)\n",
      " |    |-- source_url: string (nullable = true)\n",
      " |    |-- term_code: string (nullable = true)\n",
      " |-- acquisitions: array (nullable = true)\n",
      " |    |-- element: struct (containsNull = true)\n",
      " |    |    |-- acquired_day: long (nullable = true)\n",
      " |    |    |-- acquired_month: long (nullable = true)\n",
      " |    |    |-- acquired_year: long (nullable = true)\n",
      " |    |    |-- company: struct (nullable = true)\n",
      " |    |    |    |-- name: string (nullable = true)\n",
      " |    |    |    |-- permalink: string (nullable = true)\n",
      " |    |    |-- price_amount: double (nullable = true)\n",
      " |    |    |-- price_currency_code: string (nullable = true)\n",
      " |    |    |-- source_description: string (nullable = true)\n",
      " |    |    |-- source_url: string (nullable = true)\n",
      " |    |    |-- term_code: string (nullable = true)\n",
      " |-- alias_list: string (nullable = true)\n",
      " |-- blog_feed_url: string (nullable = true)\n",
      " |-- blog_url: string (nullable = true)\n",
      " |-- category_code: string (nullable = true)\n",
      " |-- competitions: array (nullable = true)\n",
      " |    |-- element: struct (containsNull = true)\n",
      " |    |    |-- competitor: struct (nullable = true)\n",
      " |    |    |    |-- name: string (nullable = true)\n",
      " |    |    |    |-- permalink: string (nullable = true)\n",
      " |-- created_at: string (nullable = true)\n",
      " |-- crunchbase_url: string (nullable = true)\n",
      " |-- deadpooled_day: long (nullable = true)\n",
      " |-- deadpooled_month: long (nullable = true)\n",
      " |-- deadpooled_url: string (nullable = true)\n",
      " |-- deadpooled_year: long (nullable = true)\n",
      " |-- description: string (nullable = true)\n",
      " |-- email_address: string (nullable = true)\n",
      " |-- external_links: array (nullable = true)\n",
      " |    |-- element: struct (containsNull = true)\n",
      " |    |    |-- external_url: string (nullable = true)\n",
      " |    |    |-- title: string (nullable = true)\n",
      " |-- founded_day: long (nullable = true)\n",
      " |-- founded_month: long (nullable = true)\n",
      " |-- founded_year: long (nullable = true)\n",
      " |-- funding_rounds: array (nullable = true)\n",
      " |    |-- element: struct (containsNull = true)\n",
      " |    |    |-- funded_day: long (nullable = true)\n",
      " |    |    |-- funded_month: long (nullable = true)\n",
      " |    |    |-- funded_year: long (nullable = true)\n",
      " |    |    |-- id: long (nullable = true)\n",
      " |    |    |-- investments: array (nullable = true)\n",
      " |    |    |    |-- element: struct (containsNull = true)\n",
      " |    |    |    |    |-- company: struct (nullable = true)\n",
      " |    |    |    |    |    |-- name: string (nullable = true)\n",
      " |    |    |    |    |    |-- permalink: string (nullable = true)\n",
      " |    |    |    |    |-- financial_org: struct (nullable = true)\n",
      " |    |    |    |    |    |-- name: string (nullable = true)\n",
      " |    |    |    |    |    |-- permalink: string (nullable = true)\n",
      " |    |    |    |    |-- person: struct (nullable = true)\n",
      " |    |    |    |    |    |-- first_name: string (nullable = true)\n",
      " |    |    |    |    |    |-- last_name: string (nullable = true)\n",
      " |    |    |    |    |    |-- permalink: string (nullable = true)\n",
      " |    |    |-- raised_amount: double (nullable = true)\n",
      " |    |    |-- raised_currency_code: string (nullable = true)\n",
      " |    |    |-- round_code: string (nullable = true)\n",
      " |    |    |-- source_description: string (nullable = true)\n",
      " |    |    |-- source_url: string (nullable = true)\n",
      " |-- homepage_url: string (nullable = true)\n",
      " |-- image: struct (nullable = true)\n",
      " |    |-- attribution: string (nullable = true)\n",
      " |    |-- available_sizes: array (nullable = true)\n",
      " |    |    |-- element: array (containsNull = true)\n",
      " |    |    |    |-- element: string (containsNull = true)\n",
      " |-- investments: array (nullable = true)\n",
      " |    |-- element: struct (containsNull = true)\n",
      " |    |    |-- funding_round: struct (nullable = true)\n",
      " |    |    |    |-- company: struct (nullable = true)\n",
      " |    |    |    |    |-- name: string (nullable = true)\n",
      " |    |    |    |    |-- permalink: string (nullable = true)\n",
      " |    |    |    |-- funded_day: long (nullable = true)\n",
      " |    |    |    |-- funded_month: long (nullable = true)\n",
      " |    |    |    |-- funded_year: long (nullable = true)\n",
      " |    |    |    |-- raised_amount: long (nullable = true)\n",
      " |    |    |    |-- raised_currency_code: string (nullable = true)\n",
      " |    |    |    |-- round_code: string (nullable = true)\n",
      " |    |    |    |-- source_description: string (nullable = true)\n",
      " |    |    |    |-- source_url: string (nullable = true)\n",
      " |-- ipo: struct (nullable = true)\n",
      " |    |-- pub_day: long (nullable = true)\n",
      " |    |-- pub_month: long (nullable = true)\n",
      " |    |-- pub_year: long (nullable = true)\n",
      " |    |-- stock_symbol: string (nullable = true)\n",
      " |    |-- valuation_amount: long (nullable = true)\n",
      " |    |-- valuation_currency_code: string (nullable = true)\n",
      " |-- milestones: array (nullable = true)\n",
      " |    |-- element: struct (containsNull = true)\n",
      " |    |    |-- description: string (nullable = true)\n",
      " |    |    |-- id: long (nullable = true)\n",
      " |    |    |-- source_description: string (nullable = true)\n",
      " |    |    |-- source_text: string (nullable = true)\n",
      " |    |    |-- source_url: string (nullable = true)\n",
      " |    |    |-- stoneable: struct (nullable = true)\n",
      " |    |    |    |-- name: string (nullable = true)\n",
      " |    |    |    |-- permalink: string (nullable = true)\n",
      " |    |    |-- stoneable_type: string (nullable = true)\n",
      " |    |    |-- stoned_acquirer: string (nullable = true)\n",
      " |    |    |-- stoned_day: long (nullable = true)\n",
      " |    |    |-- stoned_month: long (nullable = true)\n",
      " |    |    |-- stoned_value: string (nullable = true)\n",
      " |    |    |-- stoned_value_type: string (nullable = true)\n",
      " |    |    |-- stoned_year: long (nullable = true)\n",
      " |-- name: string (nullable = true)\n",
      " |-- number_of_employees: long (nullable = true)\n",
      " |-- offices: array (nullable = true)\n",
      " |    |-- element: struct (containsNull = true)\n",
      " |    |    |-- address1: string (nullable = true)\n",
      " |    |    |-- address2: string (nullable = true)\n",
      " |    |    |-- city: string (nullable = true)\n",
      " |    |    |-- country_code: string (nullable = true)\n",
      " |    |    |-- description: string (nullable = true)\n",
      " |    |    |-- latitude: double (nullable = true)\n",
      " |    |    |-- longitude: double (nullable = true)\n",
      " |    |    |-- state_code: string (nullable = true)\n",
      " |    |    |-- zip_code: string (nullable = true)\n",
      " |-- overview: string (nullable = true)\n",
      " |-- partners: array (nullable = true)\n",
      " |    |-- element: struct (containsNull = true)\n",
      " |    |    |-- homepage_url: string (nullable = true)\n",
      " |    |    |-- link_1_name: string (nullable = true)\n",
      " |    |    |-- link_1_url: string (nullable = true)\n",
      " |    |    |-- link_2_name: string (nullable = true)\n",
      " |    |    |-- link_2_url: string (nullable = true)\n",
      " |    |    |-- link_3_name: string (nullable = true)\n",
      " |    |    |-- link_3_url: string (nullable = true)\n",
      " |    |    |-- partner_name: string (nullable = true)\n",
      " |-- permalink: string (nullable = true)\n",
      " |-- phone_number: string (nullable = true)\n",
      " |-- products: array (nullable = true)\n",
      " |    |-- element: struct (containsNull = true)\n",
      " |    |    |-- name: string (nullable = true)\n",
      " |    |    |-- permalink: string (nullable = true)\n",
      " |-- providerships: array (nullable = true)\n",
      " |    |-- element: struct (containsNull = true)\n",
      " |    |    |-- is_past: boolean (nullable = true)\n",
      " |    |    |-- provider: struct (nullable = true)\n",
      " |    |    |    |-- name: string (nullable = true)\n",
      " |    |    |    |-- permalink: string (nullable = true)\n",
      " |    |    |-- title: string (nullable = true)\n",
      " |-- relationships: array (nullable = true)\n",
      " |    |-- element: struct (containsNull = true)\n",
      " |    |    |-- is_past: boolean (nullable = true)\n",
      " |    |    |-- person: struct (nullable = true)\n",
      " |    |    |    |-- first_name: string (nullable = true)\n",
      " |    |    |    |-- last_name: string (nullable = true)\n",
      " |    |    |    |-- permalink: string (nullable = true)\n",
      " |    |    |-- title: string (nullable = true)\n",
      " |-- screenshots: array (nullable = true)\n",
      " |    |-- element: struct (containsNull = true)\n",
      " |    |    |-- attribution: string (nullable = true)\n",
      " |    |    |-- available_sizes: array (nullable = true)\n",
      " |    |    |    |-- element: array (containsNull = true)\n",
      " |    |    |    |    |-- element: string (containsNull = true)\n",
      " |-- tag_list: string (nullable = true)\n",
      " |-- total_money_raised: string (nullable = true)\n",
      " |-- twitter_username: string (nullable = true)\n",
      " |-- updated_at: string (nullable = true)\n",
      " |-- video_embeds: array (nullable = true)\n",
      " |    |-- element: struct (containsNull = true)\n",
      " |    |    |-- description: string (nullable = true)\n",
      " |    |    |-- embed_code: string (nullable = true)\n",
      "\n"
     ]
    },
    {
     "name": "stderr",
     "output_type": "stream",
     "text": [
      "2023-11-09 04:47:40,401 WARN util.package: Truncated the string representation of a plan since it was too large. This behavior can be adjusted by setting 'spark.sql.debug.maxToStringFields'.\n",
      "[Stage 1:>                                                          (0 + 1) / 1]\r"
     ]
    },
    {
     "name": "stdout",
     "output_type": "stream",
     "text": [
      "+--------------------+--------------------+--------------------+------------------+--------------------+--------------------+---------------+--------------------+--------------------+--------------------+--------------+----------------+--------------+---------------+--------------------+-------------------+--------------------+-----------+-------------+------------+--------------------+--------------------+--------------------+--------------------+--------------------+--------------------+--------------------+-------------------+--------------------+--------------------+--------+--------------------+--------------+--------------------+--------------------+--------------------+--------------------+--------------------+------------------+----------------+--------------------+--------------------+\n",
      "|                 _id|         acquisition|        acquisitions|        alias_list|       blog_feed_url|            blog_url|  category_code|        competitions|          created_at|      crunchbase_url|deadpooled_day|deadpooled_month|deadpooled_url|deadpooled_year|         description|      email_address|      external_links|founded_day|founded_month|founded_year|      funding_rounds|        homepage_url|               image|         investments|                 ipo|          milestones|                name|number_of_employees|             offices|            overview|partners|           permalink|  phone_number|            products|       providerships|       relationships|         screenshots|            tag_list|total_money_raised|twitter_username|          updated_at|        video_embeds|\n",
      "+--------------------+--------------------+--------------------+------------------+--------------------+--------------------+---------------+--------------------+--------------------+--------------------+--------------+----------------+--------------+---------------+--------------------+-------------------+--------------------+-----------+-------------+------------+--------------------+--------------------+--------------------+--------------------+--------------------+--------------------+--------------------+-------------------+--------------------+--------------------+--------+--------------------+--------------+--------------------+--------------------+--------------------+--------------------+--------------------+------------------+----------------+--------------------+--------------------+\n",
      "|{52cdef7c4bab8bd6...|{16, 12, 2013, {V...|                  []|                  |http://digitalqua...|http://digitalqua...|            web|[{{Wikia, wikia}}...|{\"$date\":11800758...|http://www.crunch...|          null|            null|          null|              1|Technology Platfo...|  info@wetpaint.com|[{http://www.geek...|         17|           10|        2005|[{1, 10, 2005, 88...|http://wetpaint-i...|{null, [[[150,75]...|                  []|                null|[{Wetpaint named ...|            Wetpaint|                 47|[{710 - 2nd Avenu...|<p>Wetpaint is a ...|      []|                abc2|  206.859.6300|[{Wikison Wetpain...|                  []|[{false, {Michael...|[{null, [[[150,86...|wiki, seattle, el...|            $39.8M| BachelrWetpaint|Sun Dec 08 07:15:...|                  []|\n",
      "|{52cdef7c4bab8bd6...|                null|                  []|Zoho ManageEngine |                    |                    |     enterprise|                  []|{\"$date\":11801210...|http://www.crunch...|          null|            null|          null|              2|Server Management...|   pr@adventnet.com|                  []|       null|         null|        1996|                  []|http://adventnet.com|{null, [[[150,55]...|                  []|                null|                  []|           AdventNet|                600|[{4900 Hopyard Rd...|<p>AdventNet is n...|      []|                abc3|  925-924-9500|                  []|[{true, {A Small ...|[{true, {Sridhar,...|[{null, [[[150,94...|                    |                $0|    manageengine|Wed Oct 31 18:26:...|                  []|\n",
      "|{52cdef7c4bab8bd6...|                null|                  []|                  |http://blogs.zoho...|http://blogs.zoho...|       software|[{{Empressr, empr...|Fri May 25 19:30:...|http://www.crunch...|          null|            null|          null|              3|Online Business A...|  info@zohocorp.com|[{http://www.onli...|         15|            9|        2005|                  []|     http://zoho.com|{null, [[[150,55]...|                  []|                null|[{Zoho Reaches 2 ...|                Zoho|               1600|[{4900 Hopyard Rd...|<p>Zoho offers a ...|      []|                abc4|1-888-204-3539|[{Zoho Office Sui...|                  []|[{false, {Sridhar...|                  []|zoho, officesuite...|                $0|            zoho|Wed Oct 30 00:07:...|[{<p><a href=\"htt...|\n",
      "|{52cdef7c4bab8bd6...|{12, 7, 2012, {be...|[{15, 10, 2009, {...|                  |http://blog.digg....|http://blog.digg....|           news|[{{Reddit, reddit...|Fri May 25 20:03:...|http://www.crunch...|          null|            null|          null|           null|user driven socia...|  feedback@digg.com|[{http://www.soci...|         11|           10|        2004|[{1, 12, 2006, 1,...| http://www.digg.com|{null, [[[150,150...|                  []|                null|[{Another Digg Ex...|                Digg|                 60|[{135 Mississippi...|<p>Digg is a user...|      []|                digg|(415) 436-9638|      [{Digg, digg}]|[{true, {K/F Comm...|[{false, {Andrew,...|[{null, [[[117,15...|community, social...|              $45M|            digg|Tue Nov 05 21:35:...|[{<p>This video w...|\n",
      "|{52cdef7c4bab8bd6...|                null|[{1, 7, 2007, {Pa...|                  |http://blog.faceb...|http://blog.faceb...|         social|[{{MySpace, myspa...|Fri May 25 21:22:...|http://www.crunch...|          null|            null|              |           null|      Social network|                   |[{http://latimesb...|          1|            2|        2004|[{1, 9, 2004, 2, ...| http://facebook.com|{null, [[[150,61]...|[{{{LuckyCal, luc...|{18, 5, 2012, NAS...|[{Facebook adds c...|            Facebook|               5299|[{1601 Willow Roa...|<p>Facebook is th...|      []|            facebook|              |[{Facebook Platfo...|[{false, {The Out...|[{false, {Mark, Z...|[{null, [[[150,68...|facebook, college...|            $2.43B|        facebook|Thu Nov 21 19:40:...|                  []|\n",
      "|{52cdef7c4bab8bd6...|                null|                  []|              null|http://feeds.feed...|http://www.omnidr...|network_hosting|[{{Dropbox, dropb...|Sun May 27 03:25:...|http://www.crunch...|            15|               9|              |           2008|                null| info@omnidrive.com|                  []|          1|           11|        2005|[{1, 12, 2006, 22...|http://www.omnidr...|{null, [[[150,85]...|                  []|                null|                  []|           Omnidrive|               null|[{Suite 200, 654 ...|<p>Currently in p...|      []|           omnidrive|  660-675-5052|[{Omnidrive, omni...|                  []|[{true, {Geoff, M...|                  []|storage, sharing,...|             $800k|        Nomadesk|Tue Jul 02 22:48:...|                  []|\n",
      "|{52cdef7c4bab8bd6...|{9, 7, 2007, {Goo...|                  []|              null|                    |                    |            web|[{{RescueTime, re...|Fri Jun 08 12:19:...|http://www.crunch...|          null|            null|          null|           null|                null|                   |                  []|          2|            6|        1999|                  []|  http://postini.com|{null, [[[150,61]...|                  []|                null|                  []|             Postini|               null|[{959 Skyway Road...|<p>Postini focuse...|      []|             postini|  888.584.3150|[{Postini Solutio...|                  []|[{false, {Scott, ...|                  []|                    |                $0|            null|Sat Aug 13 18:02:...|                  []|\n",
      "|{52cdef7c4bab8bd6...|{28, 11, 2012, {M...|                  []|                  |http://blog.geni....|http://blog.geni.com|            web|[{{Ancestry, ance...|Thu May 31 19:52:...|http://www.crunch...|          null|            null|          null|           null|Geneology social ...|                   |                  []|          1|            6|        2006|[{1, 1, 2007, 6, ...| http://www.geni.com|{null, [[[150,60]...|                  []|                null|[{Announced hire ...|                Geni|                 18|[{9229 W. Sunset ...|<p>Geni is an onl...|      []|                geni|              |      [{Geni, geni}]|                  []|[{false, {Noah, T...|                  []|geni, geneology, ...|            $16.5M|            geni|Wed Oct 10 14:01:...|[{<p><a href=\"htt...|\n",
      "|{52cdef7c4bab8bd6...|{30, 5, 2007, {Fo...|                  []|              null|http://www.flekto...|http://www.flekto...|    games_video|[{{RockYou, rocky...|Thu May 31 21:11:...|http://www.crunch...|          null|            null|          null|           null|                null|               null|                  []|       null|         null|        null|                  []|http://www.flekto...|{null, [[[150,68]...|                  []|                null|                  []|             Flektor|               null|[{8536 National B...|<p>Flektor is a r...|      []|             flektor|          null|[{Flektor, flektor}]|                  []|[{true, {Jason, K...|                  []|flektor, photo, v...|                $0|            null|Sat Nov 05 08:42:...|                  []|\n",
      "|{52cdef7c4bab8bd6...|                null|[{30, 5, 2007, {F...|              null|                    |                    |            web|                  []|Thu May 31 21:46:...|http://www.crunch...|          null|            null|              |           null|                    |                   |                  []|          1|            6|        1979|                  []|http://www.newsco...|{null, [[[150,71]...|[{{{Simply Hired,...|                null|                  []|Fox Interactive M...|                  0|[{407 N Maple Dr,...|<p>Fox Interactiv...|      []|fox-interactive-m...|              |                  []|                  []|[{false, {Don, Sy...|[{null, [[[150,94...|                    |                $0|      twitterapi|Mon Aug 19 17:13:...|[{<p>This video w...|\n",
      "|{52cdef7c4bab8bd6...|                null|[{15, 7, 2008, {S...|                  |http://feeds.feed...|http://twitter.co...|         social|[{{Digg, digg}}, ...|Fri Jun 01 08:42:...|http://www.crunch...|          null|            null|              |           null|Real time communi...|  press@twitter.com|[{http://sec.gov/...|         21|            3|        2006|[{1, 7, 2007, 261...|  http://twitter.com|{null, [[[150,150...|                  []|{7, 11, 2013, NYS...|[{Survives iPhone...|             Twitter|               1300|[{1355 Market St....|<p>Created in 200...|      []|             twitter|              |[{Twitter Blocks,...|[{true, {Joyent, ...|[{false, {Dick, C...|[{null, [[[150,74...|text, messaging, ...|            $1.16B|         twitter|Sat Dec 07 16:07:...|[{<p>Twitter for ...|\n",
      "|{52cdef7c4bab8bd6...|{null, 4, 2009, {...|[{null, 4, 2009, ...|                  |                    |http://www.stumbl...|            web|[{{MatchMine, mat...|{\"$date\":11806900...|http://www.crunch...|          null|            null|          null|           null|Content discovery...|                   |[{http://www.face...|          1|            2|        2002|[{1, 12, 2005, 8,...|http://www.stumbl...|{null, [[[150,38]...|                  []|                null|[{Spin-out from E...|         StumbleUpon|               null|[{, , San Francis...|<p>StumbleUpon is...|      []|         stumbleupon|              |                  []|[{true, {The OutC...|[{false, {Geoff, ...|[{null, [[[150,72...|content-discovery...|            $18.5M|     stumbleupon|Wed Mar 20 04:14:...|[{<p>This video w...|\n",
      "|{52cdef7c4bab8bd6...|{15, 12, 2009, {D...|                  []|                  |                    |                    |            web|    [{{Fix8, fix8}}]|Fri Jun 01 19:32:...|http://www.crunch...|          null|            null|          null|           null|     Photo animation|                   |                  []|          1|            1|        2003|[{1, 5, 2007, 9, ...|   http://gizmoz.com|                null|                  []|                null|                  []|              Gizmoz|               null|[{null, null, Men...|<p>Founded in 200...|      []|              gizmoz|              |  [{Gizmoz, gizmoz}]|                  []|[{false, {Amihay,...|                  []|avatar, widget, 3...|            $18.1M|            null|Fri Dec 21 04:53:...|                  []|\n",
      "|{52cdef7c4bab8bd6...|                null|                  []|                  |http://blog.scrib...|http://blog.scrib...|           news|[{{Docstoc, docst...|Sat Jun 02 07:34:...|http://www.crunch...|          null|            null|          null|           null|Read Unlimited Books|feedback@scribd.com|[{http://www.onli...|       null|         null|        2007|[{1, 6, 2006, 10,...|   http://scribd.com|{null, [[[114,114...|                  []|                null|[{Scribd launches...|              Scribd|                 50|[{539 Bryant Stre...|<p>Scribd is the ...|      []|              scribd|              |                  []|                  []|[{false, {Trip, A...|[{null, [[[150,72...|book-subscription...|            $25.8M|          scribd|Sat Dec 14 00:46:...|[{<p>CNN Money</p...|\n",
      "|{52cdef7c4bab8bd6...|                null|                  []|                  |                    |                    |          music|[{{Jango, jango}}...|Mon Jun 04 08:45:...|http://www.crunch...|          null|            null|          null|           null|Music Personaliza...|support@slacker.com|                  []|       null|         null|        2006|[{1, 6, 2007, 12,...|http://www.slacke...|{null, [[[150,61]...|                  []|                null|                  []|             Slacker|               null|[{16935 W. Bernar...|<p>Slacker is the...|      []|             slacker|              |[{Slacker Web Pla...|                  []|[{false, {Jim, Ca...|                  []|                    |            $73.1M|    SlackerRadio|Sun Mar 17 08:05:...|                  []|\n",
      "|{52cdef7c4bab8bd6...|{5, 12, 2009, {Ap...|                  []|                  |http://www.lala.c...|http://www.lala.c...|    games_video|[{{imeem, imeem}}...|Tue Jun 05 12:20:...|http://www.crunch...|          null|            null|          null|           null|hub for online mu...|      info@lala.com|                  []|       null|         null|        null|[{1, 1, 2007, 16,...| http://www.lala.com|{null, [[[150,75]...|                  []|                null|[{Apple acquires ...|                Lala|               null|[{209 Hamilton Av...|<p>Lala is a hub ...|      []|                lala|(650) 353 3206|      [{Lala, lala}]|                  []|[{false, {Bill, N...|[{null, [[[150,10...|                    |            $44.2M|            null|Wed Apr 24 05:34:...|                  []|\n",
      "|{52cdef7c4bab8bd6...|{27, 6, 2008, {Vi...|                  []|                  |                    |                    |         mobile|[{{Sprint Nextel,...|Tue Jun 05 21:39:...|http://www.crunch...|          null|            null|          null|           null|Mobile Virtual Ne...|                   |                  []|          1|            2|        2005|                  []|http://www.helio.com|{null, [[[150,66]...|                  []|                null|                  []|               Helio|               null|[{10960 Wilshire ...|<p>Helio is a pre...|      []|               helio|  310-445-7000|    [{Helio, helio}]|                  []|[{null, {Wonhee, ...|                  []| mobile, helio, mvno|                $0|            null|Mon Apr 27 22:25:...|                  []|\n",
      "|{52cdef7c4bab8bd6...|                null|[{8, 7, 2002, {Pa...|                  |                    |                    |            web|[{{Taobao, taobao...|Wed Jun 06 13:03:...|http://www.crunch...|          null|            null|          null|           null|  Online Marketplace|                   |                  []|          1|            9|        1995|[{1, 6, 1997, 245...|     http://ebay.com|{null, [[[150,62]...|[{{{ChannelAdviso...|{2, 10, 1998, NAS...|[{eBay Q2 Revenue...|                eBay|              15000|[{2145 Hamilton A...|<p>Founded in 199...|      []|                ebay|              |[{eBay Marketplac...|[{false, {Airfoil...|[{false, {Pierre,...|[{null, [[[150,71...|auction, bid, sea...|             $6.7M|            eBay|Tue Sep 10 03:38:...|[{, <iframe width...|\n",
      "|{52cdef7c4bab8bd6...|                null|                  []|              null|                    |                    |         social|[{{groovr, groovr...|Thu Jun 07 11:41:...|http://www.crunch...|          null|            null|          null|           null|       Mobile Dating|  press@meetmoi.com|[{http://www.soci...|       null|         null|        2007|[{1, 6, 2007, 18,...|http://www.meetmo...|{null, [[[143,59]...|                  []|                null|                  []|             MeetMoi|                 15|[{, , New York Ci...|<p>MeetMoi, the l...|      []|             meetmoi|              |[{MeetMoi, meetmo...|                  []|[{false, {Jeremy,...|                  []|mobile, dating, l...|            $5.58M|         meetmoi|Wed Aug 21 19:04:...|[{<p>Interview Wi...|\n",
      "|{52cdef7c4bab8bd6...|{24, 11, 2009, {A...|                  []|              null|http://blog.joost...|http://blog.joost...|    games_video|[{{Babelgum, babe...|Sat Jun 09 07:05:...|http://www.crunch...|          null|            null|          null|           null|                null|  newyork@joost.com|                  []|          1|           10|        2006|[{9, 5, 2007, 19,...|    http://joost.com|{null, [[[150,64]...|                  []|                null|[{Joost Video Net...|               Joost|                  0|[{100 5th Ave Fl ...|<p>As their third...|      []|               joost|              |    [{Joost, joost}]|                  []|[{false, {Matt, Z...|                  []|iptv, babelgum, t...|              $45M|            null|Fri Mar 15 23:31:...|[{, <object width...|\n",
      "+--------------------+--------------------+--------------------+------------------+--------------------+--------------------+---------------+--------------------+--------------------+--------------------+--------------+----------------+--------------+---------------+--------------------+-------------------+--------------------+-----------+-------------+------------+--------------------+--------------------+--------------------+--------------------+--------------------+--------------------+--------------------+-------------------+--------------------+--------------------+--------+--------------------+--------------+--------------------+--------------------+--------------------+--------------------+--------------------+------------------+----------------+--------------------+--------------------+\n",
      "only showing top 20 rows\n",
      "\n"
     ]
    },
    {
     "name": "stderr",
     "output_type": "stream",
     "text": [
      "\r",
      "                                                                                \r"
     ]
    }
   ],
   "source": [
    "data_df=spark.read.format(\"json\").load(\"file:/home/labuser/Downloads/5d81b319-291a-41be-afe4-ab8d39e283b8_83d04ac6-cb74-4a96-a06a-e0d5442aa126_companies.json\")\n",
    "data_df.printSchema()\n",
    "data_df.show()"
   ]
  },
  {
   "cell_type": "code",
   "execution_count": 7,
   "id": "84ec7777",
   "metadata": {},
   "outputs": [
    {
     "name": "stderr",
     "output_type": "stream",
     "text": [
      "\r",
      "[Stage 3:>                                                          (0 + 8) / 8]\r"
     ]
    },
    {
     "name": "stdout",
     "output_type": "stream",
     "text": [
      "+----------------+\n",
      "|            name|\n",
      "+----------------+\n",
      "|SomethingSimpler|\n",
      "|     BlueLithium|\n",
      "|          Helium|\n",
      "|     Adknowledge|\n",
      "|           Zmags|\n",
      "|        Phanfare|\n",
      "|         octabox|\n",
      "|          Ninite|\n",
      "|    CreateDebate|\n",
      "| PrimeTimeRewind|\n",
      "|          itzbig|\n",
      "|         NotePub|\n",
      "|           eVapt|\n",
      "|       Blue Nile|\n",
      "|       FIRST ROI|\n",
      "|       Telelogic|\n",
      "|           Tyroo|\n",
      "|     Prospection|\n",
      "|           POPrl|\n",
      "|     Bertelsmann|\n",
      "+----------------+\n",
      "only showing top 20 rows\n",
      "\n"
     ]
    },
    {
     "name": "stderr",
     "output_type": "stream",
     "text": [
      "\r",
      "                                                                                \r"
     ]
    }
   ],
   "source": [
    "data_df.select(\"name\").distinct().show()"
   ]
  },
  {
   "cell_type": "code",
   "execution_count": 9,
   "id": "31f87e69",
   "metadata": {},
   "outputs": [
    {
     "name": "stdout",
     "output_type": "stream",
     "text": [
      "root\n",
      " |-- _id: struct (nullable = true)\n",
      " |    |-- $oid: string (nullable = true)\n",
      " |-- acquisition: struct (nullable = true)\n",
      " |    |-- acquired_day: long (nullable = true)\n",
      " |    |-- acquired_month: long (nullable = true)\n",
      " |    |-- acquired_year: long (nullable = true)\n",
      " |    |-- acquiring_company: struct (nullable = true)\n",
      " |    |    |-- name: string (nullable = true)\n",
      " |    |    |-- permalink: string (nullable = true)\n",
      " |    |-- price_amount: long (nullable = true)\n",
      " |    |-- price_currency_code: string (nullable = true)\n",
      " |    |-- source_description: string (nullable = true)\n",
      " |    |-- source_url: string (nullable = true)\n",
      " |    |-- term_code: string (nullable = true)\n",
      " |-- acquisitions: array (nullable = true)\n",
      " |    |-- element: struct (containsNull = true)\n",
      " |    |    |-- acquired_day: long (nullable = true)\n",
      " |    |    |-- acquired_month: long (nullable = true)\n",
      " |    |    |-- acquired_year: long (nullable = true)\n",
      " |    |    |-- company: struct (nullable = true)\n",
      " |    |    |    |-- name: string (nullable = true)\n",
      " |    |    |    |-- permalink: string (nullable = true)\n",
      " |    |    |-- price_amount: double (nullable = true)\n",
      " |    |    |-- price_currency_code: string (nullable = true)\n",
      " |    |    |-- source_description: string (nullable = true)\n",
      " |    |    |-- source_url: string (nullable = true)\n",
      " |    |    |-- term_code: string (nullable = true)\n",
      " |-- alias_list: string (nullable = true)\n",
      " |-- blog_feed_url: string (nullable = true)\n",
      " |-- blog_url: string (nullable = true)\n",
      " |-- category_code: string (nullable = true)\n",
      " |-- competitions: array (nullable = true)\n",
      " |    |-- element: struct (containsNull = true)\n",
      " |    |    |-- competitor: struct (nullable = true)\n",
      " |    |    |    |-- name: string (nullable = true)\n",
      " |    |    |    |-- permalink: string (nullable = true)\n",
      " |-- created_at: string (nullable = true)\n",
      " |-- crunchbase_url: string (nullable = true)\n",
      " |-- deadpooled_day: long (nullable = true)\n",
      " |-- deadpooled_month: long (nullable = true)\n",
      " |-- deadpooled_url: string (nullable = true)\n",
      " |-- deadpooled_year: long (nullable = true)\n",
      " |-- description: string (nullable = true)\n",
      " |-- email_address: string (nullable = true)\n",
      " |-- external_links: array (nullable = true)\n",
      " |    |-- element: struct (containsNull = true)\n",
      " |    |    |-- external_url: string (nullable = true)\n",
      " |    |    |-- title: string (nullable = true)\n",
      " |-- founded_day: long (nullable = true)\n",
      " |-- founded_month: long (nullable = true)\n",
      " |-- founded_year: long (nullable = true)\n",
      " |-- funding_rounds: array (nullable = true)\n",
      " |    |-- element: struct (containsNull = true)\n",
      " |    |    |-- funded_day: long (nullable = true)\n",
      " |    |    |-- funded_month: long (nullable = true)\n",
      " |    |    |-- funded_year: long (nullable = true)\n",
      " |    |    |-- id: long (nullable = true)\n",
      " |    |    |-- investments: array (nullable = true)\n",
      " |    |    |    |-- element: struct (containsNull = true)\n",
      " |    |    |    |    |-- company: struct (nullable = true)\n",
      " |    |    |    |    |    |-- name: string (nullable = true)\n",
      " |    |    |    |    |    |-- permalink: string (nullable = true)\n",
      " |    |    |    |    |-- financial_org: struct (nullable = true)\n",
      " |    |    |    |    |    |-- name: string (nullable = true)\n",
      " |    |    |    |    |    |-- permalink: string (nullable = true)\n",
      " |    |    |    |    |-- person: struct (nullable = true)\n",
      " |    |    |    |    |    |-- first_name: string (nullable = true)\n",
      " |    |    |    |    |    |-- last_name: string (nullable = true)\n",
      " |    |    |    |    |    |-- permalink: string (nullable = true)\n",
      " |    |    |-- raised_amount: double (nullable = true)\n",
      " |    |    |-- raised_currency_code: string (nullable = true)\n",
      " |    |    |-- round_code: string (nullable = true)\n",
      " |    |    |-- source_description: string (nullable = true)\n",
      " |    |    |-- source_url: string (nullable = true)\n",
      " |-- homepage_url: string (nullable = true)\n",
      " |-- image: struct (nullable = true)\n",
      " |    |-- attribution: string (nullable = true)\n",
      " |    |-- available_sizes: array (nullable = true)\n",
      " |    |    |-- element: array (containsNull = true)\n",
      " |    |    |    |-- element: string (containsNull = true)\n",
      " |-- investments: array (nullable = true)\n",
      " |    |-- element: struct (containsNull = true)\n",
      " |    |    |-- funding_round: struct (nullable = true)\n",
      " |    |    |    |-- company: struct (nullable = true)\n",
      " |    |    |    |    |-- name: string (nullable = true)\n",
      " |    |    |    |    |-- permalink: string (nullable = true)\n",
      " |    |    |    |-- funded_day: long (nullable = true)\n",
      " |    |    |    |-- funded_month: long (nullable = true)\n",
      " |    |    |    |-- funded_year: long (nullable = true)\n",
      " |    |    |    |-- raised_amount: long (nullable = true)\n",
      " |    |    |    |-- raised_currency_code: string (nullable = true)\n",
      " |    |    |    |-- round_code: string (nullable = true)\n",
      " |    |    |    |-- source_description: string (nullable = true)\n",
      " |    |    |    |-- source_url: string (nullable = true)\n",
      " |-- ipo: struct (nullable = true)\n",
      " |    |-- pub_day: long (nullable = true)\n",
      " |    |-- pub_month: long (nullable = true)\n",
      " |    |-- pub_year: long (nullable = true)\n",
      " |    |-- stock_symbol: string (nullable = true)\n",
      " |    |-- valuation_amount: long (nullable = true)\n",
      " |    |-- valuation_currency_code: string (nullable = true)\n",
      " |-- milestones: array (nullable = true)\n",
      " |    |-- element: struct (containsNull = true)\n",
      " |    |    |-- description: string (nullable = true)\n",
      " |    |    |-- id: long (nullable = true)\n",
      " |    |    |-- source_description: string (nullable = true)\n",
      " |    |    |-- source_text: string (nullable = true)\n",
      " |    |    |-- source_url: string (nullable = true)\n",
      " |    |    |-- stoneable: struct (nullable = true)\n",
      " |    |    |    |-- name: string (nullable = true)\n",
      " |    |    |    |-- permalink: string (nullable = true)\n",
      " |    |    |-- stoneable_type: string (nullable = true)\n",
      " |    |    |-- stoned_acquirer: string (nullable = true)\n",
      " |    |    |-- stoned_day: long (nullable = true)\n",
      " |    |    |-- stoned_month: long (nullable = true)\n",
      " |    |    |-- stoned_value: string (nullable = true)\n",
      " |    |    |-- stoned_value_type: string (nullable = true)\n",
      " |    |    |-- stoned_year: long (nullable = true)\n",
      " |-- name: string (nullable = true)\n",
      " |-- number_of_employees: long (nullable = true)\n",
      " |-- offices: array (nullable = true)\n",
      " |    |-- element: struct (containsNull = true)\n",
      " |    |    |-- address1: string (nullable = true)\n",
      " |    |    |-- address2: string (nullable = true)\n",
      " |    |    |-- city: string (nullable = true)\n",
      " |    |    |-- country_code: string (nullable = true)\n",
      " |    |    |-- description: string (nullable = true)\n",
      " |    |    |-- latitude: double (nullable = true)\n",
      " |    |    |-- longitude: double (nullable = true)\n",
      " |    |    |-- state_code: string (nullable = true)\n",
      " |    |    |-- zip_code: string (nullable = true)\n",
      " |-- overview: string (nullable = true)\n",
      " |-- partners: array (nullable = true)\n",
      " |    |-- element: struct (containsNull = true)\n",
      " |    |    |-- homepage_url: string (nullable = true)\n",
      " |    |    |-- link_1_name: string (nullable = true)\n",
      " |    |    |-- link_1_url: string (nullable = true)\n",
      " |    |    |-- link_2_name: string (nullable = true)\n",
      " |    |    |-- link_2_url: string (nullable = true)\n",
      " |    |    |-- link_3_name: string (nullable = true)\n",
      " |    |    |-- link_3_url: string (nullable = true)\n",
      " |    |    |-- partner_name: string (nullable = true)\n",
      " |-- permalink: string (nullable = true)\n",
      " |-- phone_number: string (nullable = true)\n",
      " |-- products: array (nullable = true)\n",
      " |    |-- element: struct (containsNull = true)\n",
      " |    |    |-- name: string (nullable = true)\n",
      " |    |    |-- permalink: string (nullable = true)\n",
      " |-- providerships: array (nullable = true)\n",
      " |    |-- element: struct (containsNull = true)\n",
      " |    |    |-- is_past: boolean (nullable = true)\n",
      " |    |    |-- provider: struct (nullable = true)\n",
      " |    |    |    |-- name: string (nullable = true)\n",
      " |    |    |    |-- permalink: string (nullable = true)\n",
      " |    |    |-- title: string (nullable = true)\n",
      " |-- relationships: array (nullable = true)\n",
      " |    |-- element: struct (containsNull = true)\n",
      " |    |    |-- is_past: boolean (nullable = true)\n",
      " |    |    |-- person: struct (nullable = true)\n",
      " |    |    |    |-- first_name: string (nullable = true)\n",
      " |    |    |    |-- last_name: string (nullable = true)\n",
      " |    |    |    |-- permalink: string (nullable = true)\n",
      " |    |    |-- title: string (nullable = true)\n",
      " |-- screenshots: array (nullable = true)\n",
      " |    |-- element: struct (containsNull = true)\n",
      " |    |    |-- attribution: string (nullable = true)\n",
      " |    |    |-- available_sizes: array (nullable = true)\n",
      " |    |    |    |-- element: array (containsNull = true)\n",
      " |    |    |    |    |-- element: string (containsNull = true)\n",
      " |-- tag_list: string (nullable = true)\n",
      " |-- total_money_raised: string (nullable = true)\n",
      " |-- twitter_username: string (nullable = true)\n",
      " |-- updated_at: string (nullable = true)\n",
      " |-- video_embeds: array (nullable = true)\n",
      " |    |-- element: struct (containsNull = true)\n",
      " |    |    |-- description: string (nullable = true)\n",
      " |    |    |-- embed_code: string (nullable = true)\n",
      "\n"
     ]
    }
   ],
   "source": [
    "data_df.printSchema()"
   ]
  },
  {
   "cell_type": "code",
   "execution_count": 8,
   "id": "a2c6c5c9",
   "metadata": {},
   "outputs": [
    {
     "name": "stderr",
     "output_type": "stream",
     "text": [
      "\r",
      "[Stage 5:>                                                          (0 + 8) / 8]\r",
      "\r",
      "[Stage 5:=======>                                                   (1 + 7) / 8]\r"
     ]
    },
    {
     "name": "stdout",
     "output_type": "stream",
     "text": [
      "+--------------------+\n",
      "|               base2|\n",
      "+--------------------+\n",
      "|Nordic Venture Pa...|\n",
      "|Virginia's Center...|\n",
      "| Oak Hill Investment|\n",
      "|     iSherpa Capital|\n",
      "|   Sycamore Ventures|\n",
      "|   RBC Dain Rauscher|\n",
      "|       Iris Ventures|\n",
      "|     Satwik Ventures|\n",
      "|                 TNP|\n",
      "|Miven Venture Par...|\n",
      "|Yasuda Enterprise...|\n",
      "|U.S Venture Partners|\n",
      "|          21Ventures|\n",
      "|        SSM Partners|\n",
      "|Axis Capital Corp...|\n",
      "|  The Zitelman Group|\n",
      "|Devon Park BioVen...|\n",
      "|       CDIB Ventures|\n",
      "| Silicon Valley Bank|\n",
      "|        Milk Capital|\n",
      "+--------------------+\n",
      "only showing top 20 rows\n",
      "\n"
     ]
    },
    {
     "name": "stderr",
     "output_type": "stream",
     "text": [
      "\r",
      "                                                                                \r"
     ]
    }
   ],
   "source": [
    "data=data_df.withColumn(\"base1\",explode(col(\"funding_rounds\"))).select(\"base1\")\\\n",
    "            .withColumn(\"base2\",explode(col(\"base1.investments.financial_org.name\"))).select(\"base2\").distinct().show()"
   ]
  },
  {
   "cell_type": "code",
   "execution_count": 10,
   "id": "0af5e7e3",
   "metadata": {},
   "outputs": [
    {
     "name": "stdout",
     "output_type": "stream",
     "text": [
      "+--------------------+-------------+\n",
      "|                name|    permalink|\n",
      "+--------------------+-------------+\n",
      "|               Wikia|        wikia|\n",
      "|             JotSpot|      jotspot|\n",
      "|          Socialtext|   socialtext|\n",
      "|  Ning by Glam Media|         ning|\n",
      "|              Soceeo|       soceeo|\n",
      "|                Yola|         yola|\n",
      "|            SocialGO|     socialgo|\n",
      "|            IslamNor|     islamnor|\n",
      "|            Empressr|     empressr|\n",
      "|Transmedia Corpor...|   transmedia|\n",
      "|      Live Documents|livedocuments|\n",
      "|            LongJump|     longjump|\n",
      "|              Phuser|       phuser|\n",
      "|            NetSuite|     netsuite|\n",
      "|              Google|       google|\n",
      "|            Flypaper|     flypaper|\n",
      "|          MovingLabs|   movinglabs|\n",
      "|               Ephox|        ephox|\n",
      "|             Coghead|      coghead|\n",
      "|         SlideRocket|  sliderocket|\n",
      "+--------------------+-------------+\n",
      "only showing top 20 rows\n",
      "\n"
     ]
    }
   ],
   "source": [
    "data=data_df.withColumn(\"base1\",explode(col(\"competitions\"))).select(\"base1\")\\\n",
    "            .withColumn(\"name\",col(\"base1.competitor.name\"))\\\n",
    "            .withColumn(\"permalink\",col(\"base1.competitor.permalink\")).select(\"name\",\"permalink\").show()"
   ]
  },
  {
   "cell_type": "code",
   "execution_count": 11,
   "id": "4f543e8f",
   "metadata": {},
   "outputs": [
    {
     "name": "stdout",
     "output_type": "stream",
     "text": [
      "+-------------+------------------------------------------------------------------------------------+\n",
      "|raised_amount|companies                                                                           |\n",
      "+-------------+------------------------------------------------------------------------------------+\n",
      "|5250000      |[Frazier Technology Ventures, Trinity Ventures]                                     |\n",
      "|9500000      |[Accel Partners, Frazier Technology Ventures, Trinity Ventures]                     |\n",
      "|25000000     |[DAG Ventures, Accel Partners, Trinity Ventures, Frazier Technology Ventures]       |\n",
      "|8500000      |[Greylock Partners, Omidyar Network]                                                |\n",
      "|2800000      |[Greylock Partners, Omidyar Network, null, null, null, null, FLOODGATE, SV Angel]   |\n",
      "|28700000     |[Highland Capital Partners, Greylock Partners, Omidyar Network, SVB Financial Group]|\n",
      "|5000000      |[]                                                                                  |\n",
      "|500000       |[null, null]                                                                        |\n",
      "|12700000     |[Accel Partners, null, null]                                                        |\n",
      "|27500000     |[Greylock Partners, Meritech Capital Partners, Founders Fund, SV Angel]             |\n",
      "|240000000    |[null]                                                                              |\n",
      "|60000000     |[null, Horizons Ventures]                                                           |\n",
      "|15000000     |[European Founders Fund]                                                            |\n",
      "|100000000    |[TriplePoint Capital]                                                               |\n",
      "|60000000     |[null, Horizons Ventures]                                                           |\n",
      "|200000000    |[Digital Sky Technologies]                                                          |\n",
      "|210000000    |[Elevation Partners]                                                                |\n",
      "|1500000000   |[Goldman Sachs, Digital Sky Technologies]                                           |\n",
      "|800000       |[null, null, null, null]                                                            |\n",
      "|1500000      |[Founders Fund]                                                                     |\n",
      "+-------------+------------------------------------------------------------------------------------+\n",
      "only showing top 20 rows\n",
      "\n"
     ]
    }
   ],
   "source": [
    "data=data_df.withColumn(\"base1\",explode(col(\"funding_rounds\"))).select(\"base1\")\\\n",
    "            .withColumn(\"raised_amount\",col(\"base1.raised_amount\").cast(\"int\"))\\\n",
    "            .withColumn(\"companies\",col(\"base1.investments.financial_org.name\")).select(\"raised_amount\",\"companies\").show(truncate=False)"
   ]
  },
  {
   "cell_type": "raw",
   "id": "317ba5bd",
   "metadata": {},
   "source": [
    "# Partitioning"
   ]
  },
  {
   "cell_type": "code",
   "execution_count": 66,
   "id": "899728d7",
   "metadata": {},
   "outputs": [
    {
     "name": "stdout",
     "output_type": "stream",
     "text": [
      "+--------+----------+--------------+--------+---------+\n",
      "|    kind|      make|         model|   price|    style|\n",
      "+--------+----------+--------------+--------+---------+\n",
      "|electric|     Telsa|       Model S| 71000.0|    sedan|\n",
      "|  hybrid|      Audi|     A3 E-Tron| 37900.0|   luxury|\n",
      "|  hybrid|       BMW|          330e| 43700.0|    sedan|\n",
      "|electric|       BMW|            i3| 43300.0|    sedan|\n",
      "|  hybrid|       BMW|            i8|137000.0|    coupe|\n",
      "|  hybrid|       BMW|  X5 xdrive40e| 64000.0|      suv|\n",
      "|electric|     Chevy|      Spark EV| 26000.0|    coupe|\n",
      "|electric|     Chevy|          Volt| 34000.0|    sedan|\n",
      "|electric|      Fiat|          500e| 32600.0|    coupe|\n",
      "|  hybrid|      Ford|  C-Max Energi| 32600.0|wagon/van|\n",
      "|electric|      Ford|Focus Electric| 29200.0|    sedan|\n",
      "|electric|      Ford| Fusion Energi| 33900.0|    sedan|\n",
      "|  hybrid|   Hyundai|        Sonata| 35400.0|    sedan|\n",
      "|electric|       Kia|       Soul EV| 34500.0|    sedan|\n",
      "|electric|  Mercedes|       B-Class| 42400.0|    sedan|\n",
      "|  hybrid|  Mercedes|          C350| 46400.0|    sedan|\n",
      "|  hybrid|  Mercedes|       GLE500e| 67000.0|      suv|\n",
      "|electric|Mitsubishi|        i-MiEV| 23800.0|    sedan|\n",
      "|electric|    Nissan|          LEAF| 29000.0|    sedan|\n",
      "|  hybrid|   Porsche|       Cayenne| 78000.0|      suv|\n",
      "+--------+----------+--------------+--------+---------+\n",
      "only showing top 20 rows\n",
      "\n"
     ]
    }
   ],
   "source": [
    "data_df=spark.read.format(\"json\").load(\"file:/home/labuser/Downloads/688b97cc-73ed-4262-b3be-6ef274e26311_83d04ac6-cb74-4a96-a06a-e0d5442aa126_cars.json\")\n",
    "data_df.show()\n"
   ]
  },
  {
   "cell_type": "code",
   "execution_count": 76,
   "id": "4b28f3ee",
   "metadata": {},
   "outputs": [],
   "source": [
    "data_df.repartition(1).write.option(\"header\",True) \\\n",
    "        .partitionBy(\"make\") \\\n",
    "        .mode(\"overwrite\") \\\n",
    "        .csv(\"file:/home/labuser/Downloads/new_data\")"
   ]
  },
  {
   "cell_type": "code",
   "execution_count": null,
   "id": "008b2eac",
   "metadata": {},
   "outputs": [],
   "source": []
  }
 ],
 "metadata": {
  "kernelspec": {
   "display_name": "Python 3 (ipykernel)",
   "language": "python",
   "name": "python3"
  },
  "language_info": {
   "codemirror_mode": {
    "name": "ipython",
    "version": 3
   },
   "file_extension": ".py",
   "mimetype": "text/x-python",
   "name": "python",
   "nbconvert_exporter": "python",
   "pygments_lexer": "ipython3",
   "version": "3.9.12"
  }
 },
 "nbformat": 4,
 "nbformat_minor": 5
}
