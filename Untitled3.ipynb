{
 "cells": [
  {
   "cell_type": "code",
   "execution_count": 1,
   "id": "f08bb069",
   "metadata": {},
   "outputs": [],
   "source": [
    "import findspark\n",
    "findspark.init()"
   ]
  },
  {
   "cell_type": "code",
   "execution_count": 2,
   "id": "a2cadeb4",
   "metadata": {},
   "outputs": [
    {
     "name": "stderr",
     "output_type": "stream",
     "text": [
      "2023-11-08 09:57:09,072 WARN util.NativeCodeLoader: Unable to load native-hadoop library for your platform... using builtin-java classes where applicable\n",
      "Setting default log level to \"WARN\".\n",
      "To adjust logging level use sc.setLogLevel(newLevel). For SparkR, use setLogLevel(newLevel).\n",
      "2023-11-08 09:57:10,245 WARN util.Utils: Service 'SparkUI' could not bind on port 4040. Attempting port 4041.\n"
     ]
    }
   ],
   "source": [
    "from pyspark.sql import SparkSession\n",
    "spark = SparkSession.builder.master(\"local[*]\").getOrCreate()"
   ]
  },
  {
   "cell_type": "code",
   "execution_count": 3,
   "id": "04df9c51",
   "metadata": {},
   "outputs": [],
   "source": [
    "from pyspark.sql.functions import *"
   ]
  },
  {
   "cell_type": "code",
   "execution_count": 4,
   "id": "0356734a",
   "metadata": {},
   "outputs": [
    {
     "name": "stderr",
     "output_type": "stream",
     "text": [
      "                                                                                \r"
     ]
    },
    {
     "name": "stdout",
     "output_type": "stream",
     "text": [
      "+--------+----------+--------------+--------+---------+\n",
      "|    kind|      make|         model|   price|    style|\n",
      "+--------+----------+--------------+--------+---------+\n",
      "|electric|     Telsa|       Model S| 71000.0|    sedan|\n",
      "|  hybrid|      Audi|     A3 E-Tron| 37900.0|   luxury|\n",
      "|  hybrid|       BMW|          330e| 43700.0|    sedan|\n",
      "|electric|       BMW|            i3| 43300.0|    sedan|\n",
      "|  hybrid|       BMW|            i8|137000.0|    coupe|\n",
      "|  hybrid|       BMW|  X5 xdrive40e| 64000.0|      suv|\n",
      "|electric|     Chevy|      Spark EV| 26000.0|    coupe|\n",
      "|electric|     Chevy|          Volt| 34000.0|    sedan|\n",
      "|electric|      Fiat|          500e| 32600.0|    coupe|\n",
      "|  hybrid|      Ford|  C-Max Energi| 32600.0|wagon/van|\n",
      "|electric|      Ford|Focus Electric| 29200.0|    sedan|\n",
      "|electric|      Ford| Fusion Energi| 33900.0|    sedan|\n",
      "|  hybrid|   Hyundai|        Sonata| 35400.0|    sedan|\n",
      "|electric|       Kia|       Soul EV| 34500.0|    sedan|\n",
      "|electric|  Mercedes|       B-Class| 42400.0|    sedan|\n",
      "|  hybrid|  Mercedes|          C350| 46400.0|    sedan|\n",
      "|  hybrid|  Mercedes|       GLE500e| 67000.0|      suv|\n",
      "|electric|Mitsubishi|        i-MiEV| 23800.0|    sedan|\n",
      "|electric|    Nissan|          LEAF| 29000.0|    sedan|\n",
      "|  hybrid|   Porsche|       Cayenne| 78000.0|      suv|\n",
      "+--------+----------+--------------+--------+---------+\n",
      "only showing top 20 rows\n",
      "\n"
     ]
    }
   ],
   "source": [
    "data_df=spark.read.format(\"json\").load(\"file:/home/labuser/Downloads/688b97cc-73ed-4262-b3be-6ef274e26311_83d04ac6-cb74-4a96-a06a-e0d5442aa126_cars.json\")\n",
    "data_df.show()"
   ]
  },
  {
   "cell_type": "code",
   "execution_count": 5,
   "id": "b8fcb0f8",
   "metadata": {},
   "outputs": [
    {
     "name": "stderr",
     "output_type": "stream",
     "text": [
      "                                                                                \r"
     ]
    },
    {
     "data": {
      "text/plain": [
       "15"
      ]
     },
     "execution_count": 5,
     "metadata": {},
     "output_type": "execute_result"
    }
   ],
   "source": [
    "data_df.select(\"make\").distinct().count()"
   ]
  },
  {
   "cell_type": "code",
   "execution_count": 6,
   "id": "c1f42b15",
   "metadata": {},
   "outputs": [
    {
     "data": {
      "text/plain": [
       "9"
      ]
     },
     "execution_count": 6,
     "metadata": {},
     "output_type": "execute_result"
    }
   ],
   "source": [
    "data_df.select(\"price\").filter(\"price > 60000\").count()"
   ]
  },
  {
   "cell_type": "code",
   "execution_count": 7,
   "id": "a9fadbf4",
   "metadata": {},
   "outputs": [
    {
     "name": "stdout",
     "output_type": "stream",
     "text": [
      "+---------+--------+----------+---------+\n",
      "|    style|    kind|      make|ispremium|\n",
      "+---------+--------+----------+---------+\n",
      "|wagon/van|  hybrid|      Ford|        0|\n",
      "|      suv|  hybrid|     Volvo|        1|\n",
      "|      suv|  hybrid|       BMW|        1|\n",
      "|      suv|  hybrid|  Mercedes|        1|\n",
      "|      suv|  hybrid|   Porsche|        1|\n",
      "|      suv|electric|     Tesla|        1|\n",
      "|    sedan|electric|     Telsa|        1|\n",
      "|    sedan|electric|      Ford|        0|\n",
      "|    sedan|electric|       BMW|        0|\n",
      "|    sedan|  hybrid|       BMW|        0|\n",
      "|    sedan|  hybrid|   Hyundai|        0|\n",
      "|    sedan|electric|       Kia|        0|\n",
      "|    sedan|  hybrid|  Mercedes|        0|\n",
      "|    sedan|electric|    Nissan|        0|\n",
      "|    sedan|electric|     Chevy|        0|\n",
      "|    sedan|electric|      Ford|        0|\n",
      "|    sedan|electric|  Mercedes|        0|\n",
      "|    sedan|electric|Mitsubishi|        0|\n",
      "|    sedan|  hybrid|   Porsche|        1|\n",
      "|    sedan|electric|     Tesla|        0|\n",
      "+---------+--------+----------+---------+\n",
      "only showing top 20 rows\n",
      "\n"
     ]
    }
   ],
   "source": [
    "b1=data_df.withColumn(\"ispremium\",when(col(\"price\")>60000,'1').otherwise(\"0\")).select(\"style\",\"kind\",\"make\",\"ispremium\")\n",
    "b1.orderBy(col(\"style\").desc()).show()"
   ]
  },
  {
   "cell_type": "code",
   "execution_count": 8,
   "id": "2f994576",
   "metadata": {},
   "outputs": [
    {
     "name": "stdout",
     "output_type": "stream",
     "text": [
      "+---------+-----------------+\n",
      "|    style|       avg(price)|\n",
      "+---------+-----------------+\n",
      "|   luxury|          37900.0|\n",
      "|    coupe|          67900.0|\n",
      "|      suv|          71600.0|\n",
      "|    sedan|42471.42857142857|\n",
      "|wagon/van|          32600.0|\n",
      "+---------+-----------------+\n",
      "\n"
     ]
    }
   ],
   "source": [
    "data_df.groupBy(\"style\").agg(avg(\"price\")).show()"
   ]
  }
 ],
 "metadata": {
  "kernelspec": {
   "display_name": "Python 3 (ipykernel)",
   "language": "python",
   "name": "python3"
  },
  "language_info": {
   "codemirror_mode": {
    "name": "ipython",
    "version": 3
   },
   "file_extension": ".py",
   "mimetype": "text/x-python",
   "name": "python",
   "nbconvert_exporter": "python",
   "pygments_lexer": "ipython3",
   "version": "3.9.12"
  }
 },
 "nbformat": 4,
 "nbformat_minor": 5
}
