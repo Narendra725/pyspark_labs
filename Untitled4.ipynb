{
 "cells": [
  {
   "cell_type": "code",
   "execution_count": 1,
   "id": "42afe037",
   "metadata": {},
   "outputs": [],
   "source": [
    "import findspark \n",
    "findspark.init()\n"
   ]
  },
  {
   "cell_type": "code",
   "execution_count": 2,
   "id": "e9e5f5e7",
   "metadata": {},
   "outputs": [
    {
     "name": "stderr",
     "output_type": "stream",
     "text": [
      "2023-11-09 17:29:12,612 WARN util.NativeCodeLoader: Unable to load native-hadoop library for your platform... using builtin-java classes where applicable\n",
      "Setting default log level to \"WARN\".\n",
      "To adjust logging level use sc.setLogLevel(newLevel). For SparkR, use setLogLevel(newLevel).\n"
     ]
    }
   ],
   "source": [
    "from pyspark.sql import SparkSession\n",
    "from pyspark.sql.functions import *\n",
    "spark = SparkSession.builder.master(\"local[*]\").getOrCreate()\n"
   ]
  },
  {
   "cell_type": "code",
   "execution_count": 3,
   "id": "30bd5a84",
   "metadata": {},
   "outputs": [
    {
     "name": "stderr",
     "output_type": "stream",
     "text": [
      "                                                                                \r"
     ]
    }
   ],
   "source": [
    "#define the paths to the csv's\n",
    "orders_df_path=\"file:/home/labuser/Downloads/orders.csv\"\n",
    "restaurants_df_path=\"file:/home/labuser/Downloads/restaurants.csv\"\n",
    "\n",
    "#read the dataframes\n",
    "orders_df=spark.read.format(\"csv\").option(\"header\",\"true\").load(orders_df_path)\n",
    "restaurants_df=spark.read.format(\"csv\").option(\"header\",\"true\").load(restaurants_df_path)\n",
    "\n",
    "#add the year and month and join the dataframes and select only the desired columns\n",
    "orders_df=orders_df.withColumn(\"year\",year(col(\"order_date\").cast(\"Date\")))\\\n",
    "                   .withColumn(\"month\",month(col(\"order_date\").cast(\"Date\")))\n",
    "report=orders_df.join(restaurants_df,restaurants_df[\"restaurant_id\"]==orders_df[\"restaurant_ids_orders\"])\\\n",
    "         .select(\"year\",\"month\",\"cuisine\",\"order_id\")\n",
    "\n",
    "#show the report\n",
    "report=report.groupBy(\"year\",\"month\",\"cuisine\").agg(count(\"order_id\").alias(\"#orders\"))\\\n",
    "             .orderBy(col(\"year\"),col(\"month\").desc())\n",
    "\n",
    "\n",
    "\n",
    "\n",
    "#write to the disk the report with partitioning by year,month\n",
    "report.write.option(\"header\",True) \\\n",
    "        .partitionBy(\"year\",\"month\") \\\n",
    "        .mode(\"overwrite\") \\\n",
    "        .csv(\"file:/home/labuser/Downloads/new_data\")\n",
    "\n",
    "#read the stored file\n",
    "csv_data = spark.read.csv(\"file:/home/labuser/Downloads/new_data\", header=True, inferSchema=True)\n",
    "\n",
    "\n",
    "#repartition and save the csv \n",
    "csv_data.repartition(5).write.option(\"header\",True).partitionBy(\"year\",\"month\").mode(\"overwrite\").csv(\"file:/home/labuser/Downloads/new_data1\")\n"
   ]
  },
  {
   "cell_type": "code",
   "execution_count": 4,
   "id": "731e6e89",
   "metadata": {},
   "outputs": [
    {
     "name": "stderr",
     "output_type": "stream",
     "text": [
      "                                                                                \r"
     ]
    }
   ],
   "source": [
    "#read the stored file\n",
    "csv_data = spark.read.csv(\"file:/home/labuser/Downloads/new_data1\", header=True, inferSchema=True)\n",
    "\n",
    "\n",
    "#repartition and save the csv \n",
    "csv_data.coalesce(3).write.option(\"header\",True).partitionBy(\"year\",\"month\").mode(\"overwrite\").csv(\"file:/home/labuser/Downloads/new_data2\")\n"
   ]
  },
  {
   "cell_type": "code",
   "execution_count": 5,
   "id": "88591d42",
   "metadata": {},
   "outputs": [],
   "source": [
    "orders_details_path_local=\"file:/home/labuser/Downloads/orders_details.csv\"\n",
    "food_path_local=\"file:/home/labuser/Downloads/food.csv\""
   ]
  },
  {
   "cell_type": "code",
   "execution_count": 6,
   "id": "730c2d49",
   "metadata": {},
   "outputs": [
    {
     "name": "stderr",
     "output_type": "stream",
     "text": [
      "                                                                                \r"
     ]
    }
   ],
   "source": [
    "# Q. Total Revenue of Veg Food Items\n",
    "\n",
    "orders_details_df_local = spark.read.format(\"csv\").option(\"header\",\"true\").option(\"inferSchema\",\"true\").load(orders_details_path_local)\n",
    "\n",
    "food_df_local= spark.read.format(\"csv\").option(\"header\",\"true\").option(\"inferSchema\",\"true\").load(food_path_local)\n",
    "\n",
    "# Filter for vegetarian food items\n",
    "vegetarian_food = food_df_local.filter(col(\"food_category\") == \"Veg\")\n",
    "\n",
    "# Join the data frames to get the relevant information\n",
    "order_details_food = orders_details_df_local.join(vegetarian_food, orders_details_df_local.food_ids_detail == vegetarian_food.food_id)\n",
    "\n",
    "# Calculate the revenue generated by vegetarian food items\n",
    "revenue_df = order_details_food.select(sum(col(\"food_price\") * col(\"food_qty\")).alias(\"total_revenue\"))"
   ]
  },
  {
   "cell_type": "code",
   "execution_count": 35,
   "id": "17373bfc",
   "metadata": {},
   "outputs": [
    {
     "name": "stderr",
     "output_type": "stream",
     "text": [
      "[Stage 21:==============>                                           (2 + 6) / 8]\r"
     ]
    },
    {
     "name": "stdout",
     "output_type": "stream",
     "text": [
      "8\n",
      "8\n"
     ]
    },
    {
     "name": "stderr",
     "output_type": "stream",
     "text": [
      "\r",
      "                                                                                \r"
     ]
    }
   ],
   "source": [
    "#define the path to the file\n",
    "orders_details_path_local=\"file:/home/labuser/Downloads/orders_details.csv\"\n",
    "\n",
    "#read the data in to Dataframe\n",
    "orders_details_df_local = spark.read.format(\"csv\").option(\"header\",\"true\").option(\"inferSchema\",\"true\").load(orders_details_path_local)\n",
    "\n",
    "\n",
    "#print the num of partitions after reading\n",
    "num_partitions = orders_details_df_local.rdd.getNumPartitions()\n",
    "print(num_partitions)\n",
    "\n",
    "#repartiotion the dataframe \n",
    "orders_details_df_local=orders_details_df_local.coalesce(19)\n",
    "\n",
    "#print the updated partitions count\n",
    "print(orders_details_df_local.rdd.getNumPartitions())"
   ]
  },
  {
   "cell_type": "code",
   "execution_count": 33,
   "id": "9a968dfc",
   "metadata": {},
   "outputs": [
    {
     "name": "stdout",
     "output_type": "stream",
     "text": [
      "10\n"
     ]
    }
   ],
   "source": [
    "\n",
    "#repartiotion the dataframe \n",
    "orders_details_df_local=orders_details_df_local.coalesce(10)\n",
    "\n",
    "#print the updated partitions count\n",
    "print(orders_details_df_local.getNumPartitions())"
   ]
  },
  {
   "cell_type": "code",
   "execution_count": 56,
   "id": "699f29d3",
   "metadata": {},
   "outputs": [
    {
     "name": "stderr",
     "output_type": "stream",
     "text": [
      "\r",
      "[Stage 34:>                                                         (0 + 8) / 8]\r"
     ]
    },
    {
     "name": "stdout",
     "output_type": "stream",
     "text": [
      "+--------------------+\n",
      "|           food_menu|\n",
      "+--------------------+\n",
      "|   Chiness Appetizer|\n",
      "|  Maggie & Pav Bhaji|\n",
      "|         Cold Coffee|\n",
      "|           Breakfast|\n",
      "| Special Sweet Gifts|\n",
      "|              Snacks|\n",
      "|      Shakes Crunchy|\n",
      "|         Quick Bites|\n",
      "|   Veg Supreme Pizza|\n",
      "|   Veg Delight Pizza|\n",
      "|Single Topping Pizza|\n",
      "|Non Veg Supreme P...|\n",
      "|Non Veg Delight P...|\n",
      "| Non Veg Super Pizza|\n",
      "|Swiggy Special Co...|\n",
      "|          Gravy Item|\n",
      "|               Momos|\n",
      "|Non-Veg Grilled S...|\n",
      "|      Pasta-La-Vista|\n",
      "|              Extras|\n",
      "+--------------------+\n",
      "only showing top 20 rows\n",
      "\n"
     ]
    },
    {
     "name": "stderr",
     "output_type": "stream",
     "text": [
      "\r",
      "                                                                                \r"
     ]
    }
   ],
   "source": [
    "food_df_local.select(\"food_menu\").distinct().show()"
   ]
  },
  {
   "cell_type": "code",
   "execution_count": 50,
   "id": "ec061ca5",
   "metadata": {},
   "outputs": [
    {
     "name": "stderr",
     "output_type": "stream",
     "text": [
      "                                                                                \r"
     ]
    }
   ],
   "source": [
    "orders_df.write.option(\"header\",True) \\\n",
    "        .partitionBy(\"year\",\"month\") \\\n",
    "        .mode(\"overwrite\") \\\n",
    "        .csv(\"file:/home/labuser/Downloads/new_data\")"
   ]
  }
 ],
 "metadata": {
  "kernelspec": {
   "display_name": "Python 3 (ipykernel)",
   "language": "python",
   "name": "python3"
  },
  "language_info": {
   "codemirror_mode": {
    "name": "ipython",
    "version": 3
   },
   "file_extension": ".py",
   "mimetype": "text/x-python",
   "name": "python",
   "nbconvert_exporter": "python",
   "pygments_lexer": "ipython3",
   "version": "3.9.12"
  }
 },
 "nbformat": 4,
 "nbformat_minor": 5
}
