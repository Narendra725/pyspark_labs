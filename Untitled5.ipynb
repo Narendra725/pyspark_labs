{
 "cells": [
  {
   "cell_type": "code",
   "execution_count": 1,
   "id": "e1c45e16",
   "metadata": {},
   "outputs": [],
   "source": [
    "import findspark\n",
    "findspark.init()\n"
   ]
  },
  {
   "cell_type": "code",
   "execution_count": 3,
   "id": "11791105",
   "metadata": {},
   "outputs": [
    {
     "name": "stderr",
     "output_type": "stream",
     "text": [
      "2023-11-09 17:52:29,420 WARN util.NativeCodeLoader: Unable to load native-hadoop library for your platform... using builtin-java classes where applicable\n",
      "Setting default log level to \"WARN\".\n",
      "To adjust logging level use sc.setLogLevel(newLevel). For SparkR, use setLogLevel(newLevel).\n",
      "2023-11-09 17:52:30,578 WARN util.Utils: Service 'SparkUI' could not bind on port 4040. Attempting port 4041.\n"
     ]
    }
   ],
   "source": [
    "from pyspark.sql import SparkSession\n",
    "spark = SparkSession.builder.master(\"local[*]\").getOrCreate()\n",
    "from pyspark.sql.functions import *\n"
   ]
  },
  {
   "cell_type": "code",
   "execution_count": 4,
   "id": "b0a338da",
   "metadata": {},
   "outputs": [],
   "source": [
    "orders_path=\"file:/home/labuser/Downloads/ord.csv\"\n",
    "trans_path=\"file:/home/labuser/Downloads/trans.csv\"\n",
    "cust_path=\"file:/home/labuser/Downloads/cust.csv\"\n",
    "ret_path=\"file:/home/labuser/Downloads/ret.csv\"\n",
    "vend_path=\"file:/home/labuser/Downloads/vend.csv\""
   ]
  },
  {
   "cell_type": "code",
   "execution_count": 6,
   "id": "85fcc1fc",
   "metadata": {},
   "outputs": [
    {
     "name": "stderr",
     "output_type": "stream",
     "text": [
      "\r",
      "[Stage 0:>                                                          (0 + 1) / 1]\r",
      "\r",
      "                                                                                \r"
     ]
    }
   ],
   "source": [
    "orders_df=spark.read.format(\"csv\").option(\"header\",True).option(\"inferschema\",True).load(orders_path)\n",
    "transactions_df=spark.read.format(\"csv\").option(\"header\",True).option(\"inferschema\",True).load(orders_path)\n",
    "customers_df=spark.read.format(\"csv\").option(\"header\",True).option(\"inferschema\",True).load(orders_path)\n",
    "returns_df=spark.read.format(\"csv\").option(\"header\",True).option(\"inferschema\",True).load(orders_path)\n",
    "vendors_df=spark.read.format(\"csv\").option(\"header\",True).option(\"inferschema\",True).load(vend_path)"
   ]
  },
  {
   "cell_type": "code",
   "execution_count": 7,
   "id": "5de59c3b",
   "metadata": {},
   "outputs": [
    {
     "name": "stdout",
     "output_type": "stream",
     "text": [
      "+--------------+-----------+---------+--------------+------------+-------------------+-----------------+----------------------------+-----------------------------+-----------------------------+\n",
      "|      order_id|customer_id|vendor_id|     ship_mode|order_status|order_purchase_date|order_approved_at|order_delivered_carrier_date|order_delivered_customer_date|order_estimated_delivery_date|\n",
      "+--------------+-----------+---------+--------------+------------+-------------------+-----------------+----------------------------+-----------------------------+-----------------------------+\n",
      "|CA-2017-147039|   AA-10375|    VEN01|Standard Class|   delivered|   2018-06-19 17:33| 2018-06-19 18:03|            2018-06-20 10:46|             2018-06-27 19:58|                   2018-07-25|\n",
      "|CA-2015-121391|   AA-10375|    VEN01|   First Class|   delivered|   2017-11-24 23:32|  2017-11-25 2:32|            2017-11-30 20:53|             2017-12-05 18:04|                   2017-12-08|\n",
      "|CA-2014-128055|   AA-10375|    VEN01|Standard Class|   delivered|    2018-05-14 9:29|  2018-05-14 9:54|            2018-05-14 14:59|             2018-05-23 21:06|                   2018-06-05|\n",
      "|CA-2016-103982|   AA-10375|    VEN02|Standard Class|   delivered|   2018-04-09 16:47|  2018-04-10 4:10|            2018-04-10 22:27|             2018-04-12 14:58|                   2018-04-19|\n",
      "|CA-2014-138100|   AA-10375|    VEN02|Standard Class|   delivered|   2017-12-04 18:07|  2017-12-06 2:50|             2017-12-08 2:28|             2017-12-18 23:44|                   2018-02-13|\n",
      "|CA-2016-126613|   AA-10480|    VEN02|Standard Class|   delivered|   2017-02-18 10:39| 2017-02-18 10:50|            2017-03-07 15:19|              2017-03-21 8:37|                   2017-03-21|\n",
      "|CA-2015-140921|   AA-10480|    VEN02|   First Class|   delivered|   2017-11-18 20:19| 2017-11-18 20:30|             2017-11-22 0:32|             2017-11-27 20:15|                   2017-12-14|\n",
      "|CA-2014-158064|   AA-10480|    VEN02|Standard Class|   delivered|   2017-11-09 13:00| 2017-11-09 13:10|            2017-11-14 16:23|             2017-11-21 18:42|                   2017-11-29|\n",
      "|CA-2015-109939|   AA-10480|    VEN02|Standard Class|   delivered|   2018-06-12 21:44| 2018-06-12 22:21|            2018-06-14 15:07|             2018-06-26 21:34|                   2018-07-18|\n",
      "|CA-2016-131065|   AA-10480|    VEN02|  Second Class|   delivered|    2017-07-27 8:45|  2017-07-27 9:42|            2017-07-28 17:12|             2017-08-03 18:33|                   2017-08-16|\n",
      "|CA-2014-130729|   AA-10480|    VEN02|Standard Class|   delivered|   2017-10-02 19:04|  2017-10-04 3:03|            2017-10-04 20:55|              2017-10-26 1:58|                   2017-10-30|\n",
      "|CA-2015-114503|   AA-10480|    VEN02|Standard Class|   delivered|   2018-02-15 23:09|  2018-02-17 3:47|            2018-02-19 19:12|             2018-02-28 22:13|                   2018-03-12|\n",
      "|CA-2017-100230|   AA-10480|    VEN02|Standard Class|   delivered|   2018-02-20 22:08| 2018-02-20 22:27|            2018-02-27 16:18|             2018-02-28 16:39|                   2018-03-06|\n",
      "|US-2017-169488|   AA-10480|    VEN02|   First Class|   delivered|   2017-04-19 23:03| 2017-04-19 23:15|            2017-04-20 17:36|              2017-04-30 9:41|                   2017-05-09|\n",
      "|CA-2017-114412|   AB-10060|    VEN02|Standard Class|   delivered|   2018-02-15 23:27|  2018-02-17 3:35|            2018-02-19 23:53|             2018-03-14 16:52|                   2018-03-20|\n",
      "|CA-2014-155271|   AB-10060|    VEN02|      Same Day|   delivered|   2017-12-16 22:28| 2017-12-16 22:38|            2017-12-19 20:32|             2017-12-27 18:03|                   2018-01-18|\n",
      "|CA-2016-121671|   AB-10060|    VEN02|Standard Class|     shipped|    2018-03-07 8:44|  2018-03-07 8:55|            2018-03-07 20:59|                         null|                   2018-05-02|\n",
      "|CA-2016-114601|   AB-10060|    VEN01|Standard Class|   delivered|   2018-08-10 11:48|  2018-08-11 2:44|            2018-08-15 13:54|             2018-08-28 13:18|                   2018-08-29|\n",
      "|CA-2014-154963|   AB-10165|    VEN01|Standard Class|   delivered|   2018-05-06 16:30|  2018-05-07 9:13|            2018-05-07 13:08|             2018-05-15 17:32|                   2018-06-07|\n",
      "|CA-2016-147137|   AB-10165|    VEN01|   First Class|   delivered|   2017-06-13 11:12|  2017-06-14 2:35|            2017-06-14 15:38|             2017-06-29 12:14|                   2017-07-06|\n",
      "+--------------+-----------+---------+--------------+------------+-------------------+-----------------+----------------------------+-----------------------------+-----------------------------+\n",
      "only showing top 20 rows\n",
      "\n"
     ]
    }
   ],
   "source": [
    "orders_df.show()"
   ]
  }
 ],
 "metadata": {
  "kernelspec": {
   "display_name": "Python 3 (ipykernel)",
   "language": "python",
   "name": "python3"
  },
  "language_info": {
   "codemirror_mode": {
    "name": "ipython",
    "version": 3
   },
   "file_extension": ".py",
   "mimetype": "text/x-python",
   "name": "python",
   "nbconvert_exporter": "python",
   "pygments_lexer": "ipython3",
   "version": "3.9.12"
  }
 },
 "nbformat": 4,
 "nbformat_minor": 5
}
