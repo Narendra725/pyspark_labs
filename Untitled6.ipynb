{
 "cells": [
  {
   "cell_type": "code",
   "execution_count": 1,
   "id": "5c7a0fe7",
   "metadata": {},
   "outputs": [],
   "source": [
    "###assessment"
   ]
  },
  {
   "cell_type": "code",
   "execution_count": 1,
   "id": "1285094c",
   "metadata": {},
   "outputs": [],
   "source": [
    "import findspark\n",
    "findspark.init()"
   ]
  },
  {
   "cell_type": "code",
   "execution_count": 2,
   "id": "744d8348",
   "metadata": {},
   "outputs": [
    {
     "name": "stderr",
     "output_type": "stream",
     "text": [
      "2023-11-10 06:08:10,681 WARN util.NativeCodeLoader: Unable to load native-hadoop library for your platform... using builtin-java classes where applicable\n",
      "Setting default log level to \"WARN\".\n",
      "To adjust logging level use sc.setLogLevel(newLevel). For SparkR, use setLogLevel(newLevel).\n"
     ]
    }
   ],
   "source": [
    "from pyspark.sql import SparkSession\n",
    "spark = SparkSession.builder.master(\"local[*]\").getOrCreate()\n",
    "from pyspark.sql.functions import *\n"
   ]
  },
  {
   "cell_type": "code",
   "execution_count": null,
   "id": "6259d728",
   "metadata": {},
   "outputs": [],
   "source": [
    "# transaction.csv\n",
    "# vendor.csv\n",
    "# product.csv\n",
    "# filt.json\n",
    "# customer.csv"
   ]
  },
  {
   "cell_type": "code",
   "execution_count": 57,
   "id": "d1f42e8e",
   "metadata": {},
   "outputs": [],
   "source": [
    "transaction_path=\"file:/home/labuser/Downloads/transaction.csv\"\n",
    "product_path=\"file:/home/labuser/Downloads/product.csv\"\n",
    "customer_path=\"file:/home/labuser/Downloads/customer.csv\"\n",
    "vendor_path=\"file:/home/labuser/Downloads/vendor.csv\"\n",
    "filt_path=\"file:/home/labuser/Downloads/filt.json\"\n",
    "stinv_path=\"file:/home/labuser/Downloads/stinv.json\"\n",
    "\n",
    "products_df=spark.read.format(\"csv\").option(\"header\",True).option(\"inferschema\",True).load(product_path)\n",
    "transactions_df=spark.read.format(\"csv\").option(\"header\",True).option(\"inferschema\",True).load(transaction_path)\n",
    "customers_df=spark.read.format(\"csv\").option(\"header\",True).option(\"inferschema\",True).load(customer_path)\n",
    "vendors_df=spark.read.format(\"csv\").option(\"header\",True).option(\"inferschema\",True).load(vendor_path)\n",
    "\n",
    "\n",
    "filt_df=spark.read.option(\"multiline\",\"true\").format(\"json\").load(filt_path)\n",
    "stinv_df=spark.read.format(\"json\").load(stinv_path)\n"
   ]
  },
  {
   "cell_type": "code",
   "execution_count": 9,
   "id": "14d77dd2",
   "metadata": {},
   "outputs": [
    {
     "name": "stdout",
     "output_type": "stream",
     "text": [
      "+-----------+--------------------+--------------------+----------+\n",
      "|Customer_Id|           Full_Name|      Customer_Email|       dob|\n",
      "+-----------+--------------------+--------------------+----------+\n",
      "| V0H084B3FA|         Mahika Gill|mahika.gill@gmail...|23-06-1993|\n",
      "| 7SI1YKSDMB|        Elakshi Gour|elakshi.gour@outl...|14-06-1981|\n",
      "| H0L4L7VHXT|    Tanya Srinivasan|tanyasrinivasan@y...| 3-2003/22|\n",
      "| 6I324KGK08|        Kashvi Saraf|kashvisaraf@yahoo...| 6-2001/27|\n",
      "| WKJ0VXQFIY|            Piya Ram| piyaram@hotmail.com| 3-1994/31|\n",
      "| HT4P3N5R38|    Aniruddh Kothari|aniruddhkothari@h...| 4-1994/20|\n",
      "| Y4EHCD6U3G|           Riya Gala|riya.gala@hotmail...| 8-1989/10|\n",
      "| KTYHYNJG3Q|    Tarini Sabharwal|tarini.sabharwal@...| 12-1973/3|\n",
      "| 2N2119NGLF|     Shanaya Sampath|shanaya_sampath@g...|10-1988/29|\n",
      "| CT2JZ4HB0I|       Hunar Ganesan|hunar_ganesan@gma...|11-1975/15|\n",
      "| HF5N5ZWXFL|         Anaya Raval|anaya.raval@gmail...|  2-1978/8|\n",
      "| 4WMWWD3L7C|          Hunar Bhat|hunar_bhat@outloo...| 1-1999/17|\n",
      "| RIPWSYBXN8|          Mehul Rege|mehul.rege@gmail.com| 2-1981/25|\n",
      "| 9GXGVJOUV1|     Shanaya Bhavsar|shanayabhavsar@gm...| 7-1997/19|\n",
      "| WOT5TC8J5V|        Renee Mander|reneemander@yahoo...| 6-2004/13|\n",
      "| U38Z486TPA|        Faiyaz Anand|faiyaz.anand@hotm...| 2-1985/21|\n",
      "| PYTD6L08D9|     Lakshit Solanki|lakshitsolanki@ya...| 12-1971/5|\n",
      "| YDS5XC3E0C|      Mohanlal Goyal|mohanlalgoyal@hot...|10-1995/23|\n",
      "| AB4ANZ6G75|Vardaniya Contractor|vardaniya.contrac...|27-07-1968|\n",
      "| AWVATWP59G|      Shayak Krishna|shayak_krishna@ya...|11-07-1983|\n",
      "+-----------+--------------------+--------------------+----------+\n",
      "only showing top 20 rows\n",
      "\n"
     ]
    }
   ],
   "source": [
    "customers_df.show()"
   ]
  },
  {
   "cell_type": "code",
   "execution_count": 11,
   "id": "cc29fd4c",
   "metadata": {},
   "outputs": [
    {
     "name": "stdout",
     "output_type": "stream",
     "text": [
      "+-----------+--------------------+--------------------+----------+\n",
      "|Customer_Id|           Full_Name|      Customer_Email|       dob|\n",
      "+-----------+--------------------+--------------------+----------+\n",
      "| V0H084B3FA|         Mahika Gill|mahika.gill@gmail...|23-06-1993|\n",
      "| 7SI1YKSDMB|        Elakshi Gour|elakshi.gour@outl...|14-06-1981|\n",
      "| H0L4L7VHXT|    Tanya Srinivasan|tanyasrinivasan@y...| 3-2003/22|\n",
      "| 6I324KGK08|        Kashvi Saraf|kashvisaraf@yahoo...| 6-2001/27|\n",
      "| WKJ0VXQFIY|            Piya Ram| piyaram@hotmail.com| 3-1994/31|\n",
      "| HT4P3N5R38|    Aniruddh Kothari|aniruddhkothari@h...| 4-1994/20|\n",
      "| Y4EHCD6U3G|           Riya Gala|riya.gala@hotmail...| 8-1989/10|\n",
      "| KTYHYNJG3Q|    Tarini Sabharwal|tarini.sabharwal@...| 12-1973/3|\n",
      "| 2N2119NGLF|     Shanaya Sampath|shanaya_sampath@g...|10-1988/29|\n",
      "| CT2JZ4HB0I|       Hunar Ganesan|hunar_ganesan@gma...|11-1975/15|\n",
      "| HF5N5ZWXFL|         Anaya Raval|anaya.raval@gmail...|  2-1978/8|\n",
      "| 4WMWWD3L7C|          Hunar Bhat|hunar_bhat@outloo...| 1-1999/17|\n",
      "| RIPWSYBXN8|          Mehul Rege|mehul.rege@gmail.com| 2-1981/25|\n",
      "| 9GXGVJOUV1|     Shanaya Bhavsar|shanayabhavsar@gm...| 7-1997/19|\n",
      "| WOT5TC8J5V|        Renee Mander|reneemander@yahoo...| 6-2004/13|\n",
      "| U38Z486TPA|        Faiyaz Anand|faiyaz.anand@hotm...| 2-1985/21|\n",
      "| PYTD6L08D9|     Lakshit Solanki|lakshitsolanki@ya...| 12-1971/5|\n",
      "| YDS5XC3E0C|      Mohanlal Goyal|mohanlalgoyal@hot...|10-1995/23|\n",
      "| AB4ANZ6G75|Vardaniya Contractor|vardaniya.contrac...|27-07-1968|\n",
      "| AWVATWP59G|      Shayak Krishna|shayak_krishna@ya...|11-07-1983|\n",
      "+-----------+--------------------+--------------------+----------+\n",
      "only showing top 20 rows\n",
      "\n"
     ]
    }
   ],
   "source": [
    "customers_df.show()"
   ]
  },
  {
   "cell_type": "code",
   "execution_count": 4,
   "id": "e9ab5a1d",
   "metadata": {},
   "outputs": [
    {
     "name": "stdout",
     "output_type": "stream",
     "text": [
      "+-----------+---------+--------------+-----+\n",
      "|Customer_Id|Full_Name|Customer_Email|  dob|\n",
      "+-----------+---------+--------------+-----+\n",
      "|      false|    false|         false|false|\n",
      "+-----------+---------+--------------+-----+\n",
      "\n",
      "+-----------+------------------+--------------------+----------+\n",
      "|Customer_Id|         Full_Name|      Customer_Email|   dob_new|\n",
      "+-----------+------------------+--------------------+----------+\n",
      "| 229TP0W9RT|     Hunar Solanki|hunarsolanki@yaho...|12/11/1981|\n",
      "| 2CX5XWJYFS|        Rati Wagle|rati.wagle@yahoo.com|13/05/1970|\n",
      "| 73CRVEJVLW|         Rati Keer|  ratikeer@gmail.com|24/02/1987|\n",
      "| 82PYGT7I5V|       Kiaan Sidhu|kiaan_sidhu@hotma...|16/04/1985|\n",
      "| 8P3QBNN6BJ|      Kaira Dhawan|kaira.dhawan@outl...|10/10/1977|\n",
      "| 8XUEH92WBC|       Onkar Baria|onkarbaria@gmail.com|27/10/1976|\n",
      "| B7IMW22BXJ|Adira Venkataraman|adira.venkatarama...|19/12/1994|\n",
      "| CS76JPPAJM|       Hiran Dixit|hiran.dixit@hotma...|15/10/1978|\n",
      "| D1GXMF9ZLB|     Vanya Kapadia|vanya_kapadia@gma...|19/08/2002|\n",
      "| EPPJ8AQRYH|        Shray Shah| shrayshah@gmail.com|27/06/1989|\n",
      "| KLPUST5SYF|       Kavya Ahuja|kavya_ahuja@hotma...|12/06/1996|\n",
      "| LXAIT01XO0|      Nehmat Bassi|nehmat_bassi@gmai...|07/01/2003|\n",
      "| NGWTZJBA6L|   Vedika Chandran|vedikachandran@ya...|15/07/1972|\n",
      "| PDG4IFDYKJ|    Mohanlal Tella|mohanlal.tella@ho...|05/01/1969|\n",
      "| SHRYFDDDSS|      Rania Kurian|raniakurian@yahoo...|17/11/1975|\n",
      "| U5ZULSFJBA|      Yuvraj  Kala|yuvraj.kala@gmail...|17/09/1987|\n",
      "| UXL4BB6TGA|      Manjari Vyas|manjari.vyas@hotm...|27/10/1994|\n",
      "| VR7T5BXUWX|   Nirvaan Solanki|nirvaan.solanki@o...|26/07/1995|\n",
      "| Y845LJGTQ5| Urvi Venkataraman|urvivenkataraman@...|26/09/1987|\n",
      "| ZGE0H8QTH8|       Heer Sahota|heer_sahota@yahoo...|01/03/1978|\n",
      "+-----------+------------------+--------------------+----------+\n",
      "only showing top 20 rows\n",
      "\n"
     ]
    }
   ],
   "source": [
    "#find null values ifany()\n",
    "customers_df.select([col(c).isNull().alias(c) for c in customers_df.columns]).distinct().show()\n",
    "\n",
    "#drop the duplicate entries\n",
    "customers_df = customers_df.dropDuplicates([\"Customer_Id\"])\n",
    "\n",
    "#change date format to unique format\n",
    "customers_df = customers_df.withColumn(\"dob_new\", regexp_replace(\"dob\", \"-\", \"/\")).drop(\"dob\")\n",
    "customers_df.show()"
   ]
  },
  {
   "cell_type": "code",
   "execution_count": 43,
   "id": "8176c6a8",
   "metadata": {},
   "outputs": [
    {
     "name": "stderr",
     "output_type": "stream",
     "text": [
      "[Stage 96:=====================>                                    (3 + 5) / 8]\r"
     ]
    },
    {
     "name": "stdout",
     "output_type": "stream",
     "text": [
      "+-----------+--------+----------+----------+-------------+------------------+---------+\n",
      "|customer_id|store_id|#purchases|ret_period|avg_bsk_value|profit_margin(in%)|      CLV|\n",
      "+-----------+--------+----------+----------+-------------+------------------+---------+\n",
      "| NT3DS7LR7U|  8517.0|        16|      2.92|        86.76|                30|121602.82|\n",
      "| 905IHTRIRL|  5500.0|        19|      2.91|         73.0|                30| 121085.1|\n",
      "| KTMJFLDXJF|  4781.0|        13|      2.93|       101.15|                30|115584.11|\n",
      "| YM0ACJCFFU|  6802.0|        16|      2.73|        82.57|                30|108199.73|\n",
      "| 25W4PBENIV|  2989.0|        14|      2.73|        92.26|                30|105785.32|\n",
      "| BI5E94JPBY|  1005.0|        13|      2.68|       100.66|                30|105209.83|\n",
      "| 6RD26UJFP9|  7324.0|        13|      2.94|        91.64|                30|105074.42|\n",
      "| 1WPQXL2YV9|  4781.0|        16|       2.8|        77.78|                30|104536.32|\n",
      "| CBCTNAGAXT|  7324.0|        11|      2.96|       106.75|                30| 104273.4|\n",
      "| 8G2MFJR9HN|  5380.0|        14|       2.7|        91.52|                30|103783.68|\n",
      "| O3AYSJMVIF|  8038.0|        11|      2.82|       110.67|                30| 102989.5|\n",
      "| 82T72K4HY0|  7118.0|        14|      2.57|        94.97|                30|102510.62|\n",
      "| 4V8257CBM6|  1295.0|        11|      2.74|       111.72|                30|101017.22|\n",
      "| 9LL7OGWYGT|  1005.0|        14|       2.9|        82.86|                30|100923.48|\n",
      "| P73YBQHBQN|  6802.0|        12|      2.95|        94.98|                30|100868.76|\n",
      "| UFOD423L56|  1295.0|        13|      2.69|        95.34|                30|100021.19|\n",
      "| TIQ1YBZQ0Y|  1474.0|        13|      2.53|       101.36|                30|100011.91|\n",
      "| P9J3ZRG9GV|  2937.0|        11|      2.75|       109.95|                30| 99779.63|\n",
      "| XC7Y2HT981|  1006.0|        13|      2.71|        94.36|                30| 99729.08|\n",
      "| 7HR1SB8P9X|  9152.0|        13|      2.79|        91.33|                30| 99376.17|\n",
      "+-----------+--------+----------+----------+-------------+------------------+---------+\n",
      "only showing top 20 rows\n",
      "\n"
     ]
    },
    {
     "name": "stderr",
     "output_type": "stream",
     "text": [
      "\r",
      "[Stage 97:======================================>               (143 + 8) / 200]\r",
      "\r",
      "                                                                                \r"
     ]
    }
   ],
   "source": [
    "report=transactions_df.join(products_df,products_df[\"SKU\"]==transactions_df[\"sku_id\"])\\\n",
    "                      .select(\"customer_id\",\"store_id\",\"Invoice_date\",\"quantity\",\"Unit Price\")\n",
    "report=report.withColumn(\"unitprice\",regexp_replace(\"Unit Price\",\"\\$\",'').cast(\"float\")).drop(\"Unit Price\")\n",
    "report=report.withColumn(\"sales_amount\",col(\"quantity\")*col(\"unitprice\"))\n",
    "report=report.withColumn(\"date\",col(\"Invoice_date\").cast(\"Date\")).drop(\"Invoice_date\")\n",
    "report=report.groupBy(\"customer_id\",\"store_id\").agg(count(\"date\").alias(\"#purchases\")\n",
    "                                                   ,round(datediff(max(\"date\"),min(\"date\"))/365,2).alias(\"ret_period\")\n",
    "                                                   ,round(avg(\"sales_amount\"),2).alias(\"avg_bsk_value\"))\\\n",
    "             .orderBy(col(\"customer_id\"),col(\"store_id\").desc())\n",
    "                              \n",
    "report=report.withColumn(\"profit_margin(in%)\",lit(\"30\"))\n",
    "report=report.withColumn(\"CLV\",round(col(\"avg_bsk_value\")*col(\"profit_margin(in%)\")*col(\"ret_period\")*col(\"#purchases\"),2))\\\n",
    "              .orderBy(col(\"CLV\").desc())\n",
    "report.show()"
   ]
  },
  {
   "cell_type": "code",
   "execution_count": 45,
   "id": "6306c204",
   "metadata": {},
   "outputs": [
    {
     "name": "stderr",
     "output_type": "stream",
     "text": [
      "[Stage 102:=======>                                                 (1 + 7) / 8]\r"
     ]
    },
    {
     "name": "stdout",
     "output_type": "stream",
     "text": [
      "+----+-----+---------+--------+-------------+\n",
      "|year|month|      SKU|store_id|#Transactions|\n",
      "+----+-----+---------+--------+-------------+\n",
      "|2020|    1|SKU-32774|  2989.0|           15|\n",
      "|2020|    1|SKU-15487|  5380.0|           17|\n",
      "|2020|    1|SKU-71425|  2989.0|           13|\n",
      "|2020|    1|SKU-19229|  5380.0|           10|\n",
      "|2020|    1|SKU-96051|  8353.0|           10|\n",
      "|2020|    1|SKU-42162|  8268.0|           12|\n",
      "|2020|    1|SKU-67280|  3752.0|            9|\n",
      "|2020|    1|SKU-17223|  7324.0|           18|\n",
      "|2020|    1|SKU-37558|  5500.0|            7|\n",
      "|2020|    1|SKU-17223|  8353.0|           12|\n",
      "|2020|    1|SKU-35619|  8268.0|           15|\n",
      "|2020|    1|SKU-96051|  9187.0|            5|\n",
      "|2020|    1|SKU-37558|  9187.0|           13|\n",
      "|2020|    1|SKU-94437|  1006.0|           18|\n",
      "|2020|    1|SKU-66555|  8038.0|           10|\n",
      "|2020|    1|SKU-28898|  5380.0|           13|\n",
      "|2020|    1|SKU-20500|  4781.0|           10|\n",
      "|2020|    1|SKU-40394|  5614.0|           10|\n",
      "|2020|    1|SKU-43473|  9871.0|           16|\n",
      "|2020|    1|SKU-14070|  6506.0|           12|\n",
      "+----+-----+---------+--------+-------------+\n",
      "only showing top 20 rows\n",
      "\n"
     ]
    },
    {
     "name": "stderr",
     "output_type": "stream",
     "text": [
      "\r",
      "                                                                                \r"
     ]
    }
   ],
   "source": [
    "report=transactions_df.join(products_df,products_df[\"SKU\"]==transactions_df[\"sku_id\"])\\\n",
    "                      .select(\"Invoice_date\",\"store_id\",\"SKU\",\"Invoice_Id\")\\\n",
    "                      .withColumn(\"year\",year(col(\"Invoice_date\").cast(\"Date\")))\\\n",
    "                      .withColumn(\"month\",month(col(\"Invoice_date\").cast(\"Date\"))).drop(\"Invoice_date\")\\\n",
    "                      .groupBy(\"year\",\"month\",\"SKU\",\"store_id\").agg(count(\"Invoice_Id\").alias(\"#Transactions\"))\\\n",
    "                      .orderBy(col(\"year\").desc(),col(\"month\"))\n",
    "report.show()\n",
    "                 "
   ]
  },
  {
   "cell_type": "code",
   "execution_count": 58,
   "id": "623d2974",
   "metadata": {},
   "outputs": [
    {
     "name": "stdout",
     "output_type": "stream",
     "text": [
      "+---------+--------+-----------------------+-----------------+-----------+----------------+--------------+----+\n",
      "|      SKU|Store ID|on_hand_inventory_units|total_sales_units|units_in_dc|units_in_transit|units_on_order|Date|\n",
      "+---------+--------+-----------------------+-----------------+-----------+----------------+--------------+----+\n",
      "|SKU-17941|  6506.0|                   35.0|              0.0|        0.0|             0.0|           0.0|null|\n",
      "|SKU-17941|  2526.0|                  133.0|             11.0|        0.0|             0.0|           0.0|null|\n",
      "|SKU-17941|  5614.0|                    6.0|              0.0|        0.0|             4.0|          12.0|null|\n",
      "|SKU-17941|  7324.0|                   15.0|              2.0|        0.0|             0.0|           0.0|null|\n",
      "|SKU-17941|  2937.0|                  161.0|              5.0|        0.0|             0.0|           0.0|null|\n",
      "|SKU-17941|  1006.0|                  164.0|              2.0|        0.0|             0.0|           0.0|null|\n",
      "|SKU-17941|  9152.0|                  107.0|             30.0|       24.0|            24.0|           0.0|null|\n",
      "|SKU-17941|  5309.0|                  116.0|             20.0|        0.0|             0.0|           0.0|null|\n",
      "|SKU-17941|  8268.0|                  191.0|              0.0|        0.0|             0.0|           0.0|null|\n",
      "|SKU-17941|  7652.0|                  111.0|              1.0|        0.0|             0.0|           0.0|null|\n",
      "|SKU-17941|  3752.0|                  186.0|             15.0|        0.0|             0.0|           0.0|null|\n",
      "|SKU-17941|  1531.0|                   59.0|              4.0|       24.0|             0.0|           0.0|null|\n",
      "|SKU-17941|  2989.0|                   72.0|              5.0|       12.0|             0.0|           0.0|null|\n",
      "|SKU-17941|  9871.0|                   20.0|              0.0|       12.0|             0.0|           0.0|null|\n",
      "|SKU-17941|  9187.0|                   97.0|             53.0|       36.0|            24.0|           0.0|null|\n",
      "|SKU-17941|  6973.0|                    8.0|              0.0|        1.0|             1.0|           0.0|null|\n",
      "|SKU-17941|  7118.0|                   55.0|             20.0|       12.0|            24.0|           0.0|null|\n",
      "|SKU-17941|  8038.0|                    1.0|              2.0|        0.0|             4.0|           0.0|null|\n",
      "|SKU-17941|  4781.0|                   75.0|             14.0|       12.0|             0.0|           0.0|null|\n",
      "|SKU-17941|  6378.0|                   45.0|              4.0|        0.0|             0.0|           0.0|null|\n",
      "+---------+--------+-----------------------+-----------------+-----------+----------------+--------------+----+\n",
      "only showing top 20 rows\n",
      "\n"
     ]
    }
   ],
   "source": [
    "stinv_df=stinv_df.filter(col(\"SKU\") == \"SKU-17941\").orderBy(\"Store ID\")\\\n",
    "                 .withColumn(\"Date\",col(\"Inventorydate\").cast(\"Date\")).drop(\"Inventorydate\")\n",
    "\n",
    "from pyspark.sql import Window\n",
    "# Define a window specification to partition by \"Name\" and order by \"Date\"\n",
    "window_spec = Window.partitionBy(\"Store ID\").orderBy(\"Date\")\n",
    "\n",
    "# Add a row number column to each partition\n",
    "report = stinv_df.withColumn(\"row_num\", row_number().over(window_spec))\n",
    "\n",
    "# Filter rows where row number is 1 to get the first value in each group\n",
    "report =report.filter(col(\"row_num\") == 1).drop(\"row_num\")\n",
    "    \n",
    "report.show()"
   ]
  },
  {
   "cell_type": "code",
   "execution_count": null,
   "id": "bde63fc6",
   "metadata": {},
   "outputs": [],
   "source": []
  },
  {
   "cell_type": "code",
   "execution_count": 24,
   "id": "2c7b3761",
   "metadata": {},
   "outputs": [
    {
     "name": "stdout",
     "output_type": "stream",
     "text": [
      "+----------+------------+---------+--------+-----------+--------+\n",
      "|Invoice_Id|Invoice_date|   sku_id|quantity|customer_id|store_id|\n",
      "+----------+------------+---------+--------+-----------+--------+\n",
      "|208540bf-3|  2018-06-29|SKU-31903|       2| LKUBJ4IHRZ|  1474.0|\n",
      "|71fe9b6a-7|  2018-12-11|SKU-20500|       1| KOXIHJRAEI|  8268.0|\n",
      "|7a20069f-0|  2020-01-02|SKU-71425|       3| DPTQSRGT8R|  2989.0|\n",
      "|847de785-f|  2020-07-23|SKU-43322|       1| DVIOHY3AGZ|  1006.0|\n",
      "|95e21b31-9|  2020-11-23|SKU-96051|       1| UD9CW30MA5|  6378.0|\n",
      "|e05e3854-d|  2018-02-07|SKU-88262|       1| 8C7ZVFICDP|  5673.0|\n",
      "|8bd80843-6|  2018-11-27|SKU-42549|       1| JA5ZLP0Y6I|  9187.0|\n",
      "|93ec2240-6|  2018-06-27|SKU-60725|       1| 0XU64Z6D8W|  6802.0|\n",
      "|99d4d89e-9|  2018-04-24|SKU-14070|       2| 8BIULNGNAG|  8038.0|\n",
      "|2ad2090b-2|  2018-03-02|SKU-80326|       1| GGI8IYXDMS|  2526.0|\n",
      "|36579b3a-5|  2020-07-04|SKU-94567|       2| 7TM4VHGCMR|  6973.0|\n",
      "|01696ec9-e|  2019-05-21|SKU-70073|       4| XNWLDA5Q85|  9152.0|\n",
      "|f6b79c3e-5|  2018-08-28|SKU-17223|       1| 41FLBLJJ3K|  5673.0|\n",
      "|71d4b14b-4|  2018-11-10|SKU-15993|       2| 0L53FUA6LF|  5380.0|\n",
      "|21049fd3-4|  2020-01-18|SKU-20500|       3| DV1IQD8G4U|  5309.0|\n",
      "|c8a7480f-6|  2019-06-02|SKU-70073|       4| RDBFOG8JXU|  5673.0|\n",
      "|06d0f42f-6|  2019-08-28|SKU-71425|       1| KFYXOHC67F|  1006.0|\n",
      "|05bfaba3-a|  2018-05-09|SKU-75825|       3| JE0LZO8KLR|  5500.0|\n",
      "|00ce4527-7|  2018-03-19|SKU-88262|       1| N0SLA9ZMCV|  6506.0|\n",
      "|a4667514-1|  2020-01-14|SKU-27695|       1| 5GGG22IXCI|  6378.0|\n",
      "+----------+------------+---------+--------+-----------+--------+\n",
      "only showing top 20 rows\n",
      "\n"
     ]
    }
   ],
   "source": [
    "transactions_df.show()"
   ]
  },
  {
   "cell_type": "code",
   "execution_count": 26,
   "id": "463eae60",
   "metadata": {},
   "outputs": [
    {
     "name": "stdout",
     "output_type": "stream",
     "text": [
      "+----------+--------------------+---------+----------+\n",
      "|Brand Name|        Product Name|      SKU|Unit Price|\n",
      "+----------+--------------------+---------+----------+\n",
      "|    Always|     Always Infinity|SKU-35265|     $8.05|\n",
      "|    Always|        Always Ultra|SKU-98849|    $34.61|\n",
      "|    Always|      Always Radiant|SKU-67280|    $48.33|\n",
      "|    Always|     Always Discreet|SKU-75825|     $7.86|\n",
      "|     Ariel|          Ariel Pods|SKU-88262|     $46.4|\n",
      "|     Ariel|        Ariel Liquid|SKU-98353|     $5.73|\n",
      "|     Ariel|     Ariel Power Gel|SKU-72043|    $36.42|\n",
      "|     Ariel|         Ariel Matic|SKU-94437|    $36.59|\n",
      "|    Bounty|   Bounty Essentials|SKU-15487|    $43.73|\n",
      "|    Bounty|   Bounty Quick-Size|SKU-24984|     $24.8|\n",
      "|    Bounty|Bounty Select-A-Size|SKU-57643|     $7.59|\n",
      "|   Charmin|  Charmin Ultra Soft|SKU-94176|    $38.15|\n",
      "|   Charmin|Charmin Ultra Strong|SKU-47899|    $19.71|\n",
      "|   Charmin|  Charmin Essentials|SKU-19229|    $10.31|\n",
      "|     Crest|    Crest Pro-Health|SKU-18244|      $9.3|\n",
      "|     Crest|      Crest 3D White|SKU-96051|    $27.66|\n",
      "|     Crest|      Crest Complete|SKU-10786|    $48.68|\n",
      "|      Dawn|          Dawn Ultra|SKU-37558|     $29.3|\n",
      "|      Dawn|       Dawn Platinum|SKU-62194|     $9.99|\n",
      "|      Dawn|   Dawn Gentle Clean|SKU-42549|    $21.34|\n",
      "+----------+--------------------+---------+----------+\n",
      "only showing top 20 rows\n",
      "\n"
     ]
    }
   ],
   "source": [
    "products_df.show()"
   ]
  },
  {
   "cell_type": "code",
   "execution_count": 46,
   "id": "eaf9d298",
   "metadata": {},
   "outputs": [
    {
     "name": "stderr",
     "output_type": "stream",
     "text": [
      "                                                                                \r"
     ]
    },
    {
     "name": "stdout",
     "output_type": "stream",
     "text": [
      "+-----------+--------------------+---------------------+-----------------+--------+\n",
      "|customer_id|total_customer_value|average_lifespan_days|customer_age_days|     clv|\n",
      "+-----------+--------------------+---------------------+-----------------+--------+\n",
      "| 229TP0W9RT|                 416|    6.458333333333333|             1085|135408.0|\n",
      "| 2CX5XWJYFS|                 460|    5.905027932960894|             1057|145866.0|\n",
      "| 73CRVEJVLW|                 507|     5.61340206185567|             1089|165636.9|\n",
      "| 82PYGT7I5V|                 407|    6.431952662721893|             1087|132722.7|\n",
      "| 8P3QBNN6BJ|                 451|    5.983240223463687|             1071|144906.3|\n",
      "| 8XUEH92WBC|                 431|    6.283236994219653|             1087|140549.1|\n",
      "| B7IMW22BXJ|                 508|    5.459183673469388|             1070|163068.0|\n",
      "| CS76JPPAJM|                 422|    6.398809523809524|             1075|136095.0|\n",
      "| D1GXMF9ZLB|                 473|    5.543589743589743|             1081|153393.9|\n",
      "| EPPJ8AQRYH|                 393|    7.038709677419355|             1091|128628.9|\n",
      "| KLPUST5SYF|                 498|    5.619791666666667|             1079|161202.6|\n",
      "| LXAIT01XO0|                 433|    6.347058823529411|             1079|140162.1|\n",
      "| NGWTZJBA6L|                 475|    5.696335078534031|             1088|155040.0|\n",
      "| PDG4IFDYKJ|                 487|    5.596858638743456|             1069|156180.9|\n",
      "| SHRYFDDDSS|                 464|    5.680851063829787|             1068|148665.6|\n",
      "| U5ZULSFJBA|                 441|    6.476190476190476|             1088|143942.4|\n",
      "| UXL4BB6TGA|                 439|    5.798913043478261|             1067|140523.9|\n",
      "| VR7T5BXUWX|                 527|    5.437810945273632|             1093|172803.3|\n",
      "| Y845LJGTQ5|                 506|    5.211538461538462|             1084|164551.2|\n",
      "| ZGE0H8QTH8|                 486|             5.671875|             1089|158776.2|\n",
      "+-----------+--------------------+---------------------+-----------------+--------+\n",
      "only showing top 20 rows\n",
      "\n"
     ]
    }
   ],
   "source": [
    "\n",
    "# Calculate the customer's age since the first purchase\n",
    "customers_age_df = transactions_df.groupBy(\"customer_id\").agg(\n",
    "    expr(\"datediff(max(Invoice_date), min(Invoice_date))\").alias(\"customer_age_days\")\n",
    ")\n",
    "# Calculate the total value of each customer to the business\n",
    "customer_value_df = transactions_df.groupBy(\"customer_id\").agg(\n",
    "    sum(transactions_df.quantity).alias(\"total_customer_value\")\n",
    ")\n",
    "# Calculate the maximum and minimum invoice dates for each customer\n",
    "customer_lifespan_df = transactions_df.groupBy(\"customer_id\").agg(\n",
    "    max(transactions_df.Invoice_date).alias(\"max_invoice_date\"),\n",
    "    min(transactions_df.Invoice_date).alias(\"min_invoice_date\"),\n",
    "    count(\"Invoice_date\").alias(\"transaction_count\")\n",
    ")\n",
    "# Calculate the average lifespan in days for each customer\n",
    "customer_lifespan_df = customer_lifespan_df.withColumn(\n",
    "    \"lifespan_days\", datediff(col(\"max_invoice_date\"), col(\"min_invoice_date\"))\n",
    ")\n",
    "customer_lifespan_df = customer_lifespan_df.withColumn(\n",
    "    \"average_lifespan_days\", col(\"lifespan_days\") / col(\"transaction_count\")\n",
    ")\n",
    "# Calculate the Customer Lifetime Value (CLV) considering profit margin and retention period\n",
    "clv_df = customer_value_df.join(customer_lifespan_df.select(\"customer_id\", \"average_lifespan_days\"), \"customer_id\").join(customers_age_df, \"customer_id\").withColumn(\n",
    "    \"clv\", round((col(\"total_customer_value\") * 0.30) * col(\"customer_age_days\"), 2)\n",
    ")\n",
    "# Show the calculated CLV\n",
    "clv_df.show()"
   ]
  },
  {
   "cell_type": "code",
   "execution_count": 47,
   "id": "9c983358",
   "metadata": {},
   "outputs": [
    {
     "name": "stderr",
     "output_type": "stream",
     "text": [
      "[Stage 95:==============>                                           (2 + 6) / 8]\r"
     ]
    },
    {
     "name": "stdout",
     "output_type": "stream",
     "text": [
      "+----+-----+---------+--------+----------------------+\n",
      "|year|month|   sku_id|store_id|Number_of_transactions|\n",
      "+----+-----+---------+--------+----------------------+\n",
      "|2019|    6|SKU-19229|  2989.0|                    14|\n",
      "|2019|    3|SKU-64635|  1009.0|                    13|\n",
      "|2020|    8|SKU-62735|  9871.0|                    15|\n",
      "|2018|    6|SKU-50813|  2526.0|                    12|\n",
      "|2020|    6|SKU-40034|  5309.0|                    10|\n",
      "|2020|    5|SKU-17726|  8268.0|                    10|\n",
      "|2019|    4|SKU-80326|  9871.0|                    12|\n",
      "|2019|    9|SKU-72043|  1474.0|                    13|\n",
      "|2018|   11|SKU-24984|  3809.0|                    11|\n",
      "|2018|    7|SKU-64454|  1005.0|                    14|\n",
      "|2018|    2|SKU-97433|  1525.0|                    17|\n",
      "|2018|    3|SKU-70073|  9152.0|                     8|\n",
      "|2020|    5|SKU-42549|  1006.0|                    13|\n",
      "|2019|    4|SKU-64635|  4781.0|                    17|\n",
      "|2018|   11|SKU-72043|  5755.0|                    10|\n",
      "|2018|    2|SKU-57643|  9152.0|                    16|\n",
      "|2019|    9|SKU-28898|  9871.0|                    10|\n",
      "|2018|    5|SKU-40270|  6506.0|                     4|\n",
      "|2019|    6|SKU-72043|  8226.0|                    11|\n",
      "|2020|    6|SKU-86155|  1474.0|                     9|\n",
      "+----+-----+---------+--------+----------------------+\n",
      "only showing top 20 rows\n",
      "\n"
     ]
    },
    {
     "name": "stderr",
     "output_type": "stream",
     "text": [
      "\r",
      "                                                                                \r"
     ]
    }
   ],
   "source": [
    "\n",
    "transactions_df = transactions_df.withColumn('year', year('Invoice_date')) \\\n",
    "    .withColumn('month', month('Invoice_date'))\n",
    " \n",
    "# Group by Year, Month, SKU ID, and Store ID, and count the number of transactions\n",
    "monthly_sales_report_df = transactions_df.groupBy('year', 'month', 'sku_id', 'store_id') \\\n",
    "    .agg(count('*').alias('Number_of_transactions'))\n",
    " \n",
    "# Show the result\n",
    "monthly_sales_report_df.show()\n"
   ]
  },
  {
   "cell_type": "code",
   "execution_count": 48,
   "id": "77818428",
   "metadata": {},
   "outputs": [
    {
     "name": "stdout",
     "output_type": "stream",
     "text": [
      "+--------+--------------+\n",
      "|Store ID|Units_to_Order|\n",
      "+--------+--------------+\n",
      "|  8226.0|         452.0|\n",
      "|  7324.0|         585.0|\n",
      "|  4781.0|         525.0|\n",
      "|  8038.0|         599.0|\n",
      "|  2989.0|         528.0|\n",
      "|  1009.0|         586.0|\n",
      "|  3752.0|         414.0|\n",
      "|  3809.0|         577.0|\n",
      "|  5673.0|         392.0|\n",
      "|  2989.0|         497.0|\n",
      "|  9152.0|         493.0|\n",
      "|  8268.0|         409.0|\n",
      "|  5673.0|         586.0|\n",
      "|  9152.0|         578.0|\n",
      "|  9871.0|         580.0|\n",
      "|  1525.0|         529.0|\n",
      "|  7118.0|         545.0|\n",
      "|  1005.0|         504.0|\n",
      "|  6802.0|         589.0|\n",
      "|  1531.0|         541.0|\n",
      "+--------+--------------+\n",
      "only showing top 20 rows\n",
      "\n"
     ]
    }
   ],
   "source": [
    "#filter the data\n",
    "sku_inventory_df = stinv_df.filter(col(\"SKU\") == \"SKU-17941\")\n",
    "\n",
    "# Calculate the required units to maintain at least 600 units in inventory\n",
    "units_to_order_df = sku_inventory_df.withColumn(\"Units_to_Order\", expr(\"600 - on_hand_inventory_units\"))\n",
    "# Show the resulting DataFrame\n",
    "units_to_order_df.select(\"Store ID\", \"Units_to_Order\").show()"
   ]
  },
  {
   "cell_type": "code",
   "execution_count": 52,
   "id": "1a91f7b7",
   "metadata": {},
   "outputs": [
    {
     "name": "stderr",
     "output_type": "stream",
     "text": [
      "2023-11-10 05:12:22,797 WARN util.package: Truncated the string representation of a plan since it was too large. This behavior can be adjusted by setting 'spark.sql.debug.maxToStringFields'.\n",
      "                                                                                \r"
     ]
    },
    {
     "name": "stdout",
     "output_type": "stream",
     "text": [
      "+---------+------+------+------+------+------+------+------+------+------+------+------+------+------+------+------+------+------+------+------+------+------+------+------+------+------+------+------+------+------+------+------+------+------+------+\n",
      "|   sku_id|1005.0|1006.0|1009.0|1295.0|1474.0|1525.0|1531.0|2526.0|2937.0|2989.0|3752.0|3809.0|4781.0|5309.0|5380.0|5500.0|5614.0|5673.0|5755.0|6378.0|6506.0|6802.0|6973.0|7118.0|7324.0|7652.0|8038.0|8226.0|8268.0|8353.0|8517.0|9152.0|9187.0|9871.0|\n",
      "+---------+------+------+------+------+------+------+------+------+------+------+------+------+------+------+------+------+------+------+------+------+------+------+------+------+------+------+------+------+------+------+------+------+------+------+\n",
      "|SKU-17941|   950|  1176|  1038|  1068|  1101|  1049|   954|   995|   968|  1052|  1057|  1072|  1072|  1038|  1014|  1020|   975|   986|   961|   969|  1048|   970|   984|  1011|  1060|  1082|  1112|  1107|  1047|  1055|  1100|  1024|  1088|  1042|\n",
      "|SKU-40394|  1009|  1043|  1051|  1149|   975|   975|  1052|   977|  1058|  1058|  1093|  1064|  1014|  1091|   955|  1046|  1048|   982|  1085|  1053|  1071|   916|  1089|  1083|  1078|  1214|  1017|  1022|  1076|  1131|  1064|   992|  1188|   916|\n",
      "|SKU-57643|  1032|  1040|  1006|   983|  1088|  1018|  1117|  1012|  1002|  1039|  1076|  1004|  1054|  1032|  1123|  1063|  1102|   941|  1058|  1066|  1060|  1071|  1004|  1084|   925|  1078|  1030|  1062|   986|  1020|  1019|  1160|  1057|  1012|\n",
      "|SKU-15071|  1047|  1050|  1102|  1025|   982|  1063|  1066|  1021|  1024|  1145|  1106|  1028|   994|  1076|  1028|  1039|  1037|   990|   929|  1059|  1015|   998|  1090|   995|  1057|  1042|  1058|  1001|  1023|  1021|  1084|  1036|   998|  1104|\n",
      "|SKU-40270|  1028|  1036|  1059|  1037|  1051|   992|   981|  1041|  1094|  1055|  1062|  1115|  1031|   989|  1119|  1067|   998|  1084|  1070|  1040|   972|   984|  1172|  1047|  1066|  1028|  1159|  1129|  1010|  1017|  1007|  1097|  1054|   980|\n",
      "|SKU-15487|  1041|  1095|   987|  1047|  1039|  1094|  1094|   987|  1082|   973|  1169|  1063|  1071|   910|  1092|   954|  1043|  1115|  1039|  1104|  1126|  1092|  1071|  1051|  1013|  1074|  1059|   913|  1029|   941|  1133|  1056|  1045|   954|\n",
      "|SKU-62735|  1050|  1122|  1095|  1029|  1077|  1059|  1017|   954|  1084|  1041|  1034|   956|  1025|  1111|  1048|  1024|  1036|  1014|  1015|  1089|   994|  1095|   924|   966|  1062|  1011|  1029|   904|  1073|  1024|  1044|   954|  1063|  1021|\n",
      "|SKU-85256|  1071|  1084|  1088|  1068|  1054|   980|  1050|  1048|  1039|   928|   955|  1080|   947|  1136|   976|  1076|  1131|   974|  1016|  1051|  1014|  1056|  1001|  1092|  1034|  1041|  1188|  1003|   949|  1004|   995|  1054|  1008|  1106|\n",
      "|SKU-21225|  1108|  1020|   985|   975|  1039|  1006|   989|  1008|  1090|  1055|  1060|  1014|  1139|  1089|  1017|  1129|  1013|  1030|  1072|   958|  1000|  1040|  1060|  1030|  1062|  1037|  1084|  1057|  1035|  1106|  1041|   981|  1000|  1071|\n",
      "|SKU-41801|  1069|   958|  1000|   965|  1033|  1056|  1057|  1044|  1038|  1024|  1052|   956|  1101|  1006|  1035|  1065|  1110|  1084|  1029|  1147|   951|  1125|   964|  1112|  1016|  1102|  1007|   954|  1096|   993|  1059|  1064|  1087|  1022|\n",
      "|SKU-86155|  1038|  1009|  1020|   931|   994|  1095|  1052|  1120|  1040|   976|  1036|  1064|  1139|   968|  1124|  1072|  1096|  1036|  1034|   939|   909|  1029|  1091|  1008|  1018|  1054|  1056|   965|  1178|   918|  1034|  1003|  1060|  1016|\n",
      "|SKU-98849|   976|  1070|  1058|   993|  1000|  1055|  1054|  1076|  1166|  1051|  1043|  1059|  1098|   988|  1047|  1047|  1030|  1071|  1059|   977|   999|  1112|  1003|   942|  1002|  1148|   944|   977|   987|  1054|   988|   980|  1038|   951|\n",
      "|SKU-42230|   988|  1096|  1014|  1052|  1117|  1077|  1073|   956|   949|   938|  1109|  1063|  1096|  1052|   979|  1033|  1052|  1014|  1027|  1033|  1009|   990|  1106|  1117|  1094|   959|  1175|  1023|  1096|   988|   994|  1070|  1058|   904|\n",
      "|SKU-19229|  1077|  1001|  1074|   991|  1113|   965|  1066|  1017|  1064|  1044|   952|   980|  1019|  1059|   833|  1004|  1003|  1003|  1057|   976|  1034|   996|  1040|  1032|  1114|  1096|  1139|  1039|   918|  1031|  1006|  1124|  1056|   978|\n",
      "|SKU-18751|   904|  1074|  1127|  1041|   954|  1122|  1042|  1050|  1047|   988|  1130|   926|  1068|  1004|  1069|  1048|  1027|  1106|  1186|  1133|  1060|  1068|  1100|  1034|  1018|  1071|   999|   972|  1077|  1032|   977|   968|   984|   997|\n",
      "|SKU-17615|  1051|  1003|  1023|  1069|  1126|  1087|  1026|  1006|  1078|  1024|  1104|   934|  1095|   977|  1062|  1028|   974|   996|  1085|   932|   989|   989|  1021|  1126|  1079|  1021|  1062|   998|   978|  1093|  1073|  1008|  1038|  1002|\n",
      "|SKU-18244|  1034|  1073|  1022|   987|  1088|   978|  1018|  1061|  1156|   961|  1059|  1135|  1013|  1068|  1037|  1111|   990|   952|  1001|  1042|  1082|  1059|   975|  1059|   944|  1122|  1049|  1017|  1037|   936|  1058|  1091|  1033|  1123|\n",
      "|SKU-82261|  1148|   978|  1054|  1039|   951|  1024|  1077|  1010|  1006|  1001|  1004|   912|  1022|   978|  1001|  1019|  1054|  1040|  1061|  1034|  1087|  1019|  1048|   996|  1049|  1093|  1009|  1072|  1008|  1030|  1097|  1067|   994|   877|\n",
      "|SKU-88262|   968|  1102|   955|   958|   980|  1035|  1071|   987|  1108|   931|  1083|  1000|  1011|  1014|  1047|  1003|   977|  1001|  1021|  1016|   992|  1087|  1035|  1055|  1103|  1092|   965|  1081|  1082|  1019|   985|  1059|  1043|   986|\n",
      "|SKU-61777|  1054|  1124|  1128|  1045|  1073|  1078|  1013|  1072|  1009|   991|   988|  1041|   938|  1072|  1021|  1005|   941|  1038|  1031|  1065|  1029|  1071|  1080|  1082|  1010|  1050|  1032|  1138|  1054|   973|  1042|  1012|  1104|  1016|\n",
      "+---------+------+------+------+------+------+------+------+------+------+------+------+------+------+------+------+------+------+------+------+------+------+------+------+------+------+------+------+------+------+------+------+------+------+------+\n",
      "only showing top 20 rows\n",
      "\n"
     ]
    }
   ],
   "source": [
    "# Assuming 'sku_id' is the SKU identifier and 'store_id' is the store identifier\n",
    "# Assuming 'quantity' is the transactional quantity\n",
    " \n",
    "# Group by SKU and Store and calculate the total transactional value\n",
    "total_transactional_value_df = transactions_df.groupBy(\"sku_id\", \"store_id\") \\\n",
    "    .agg(sum(col(\"quantity\")).alias(\"Total_Quantity\"))\n",
    " \n",
    "# Assuming 'sku_id' is present in both 'total_transactional_value_df' and 'products_df'\n",
    "# Join with 'products_df' to get SKU information including 'unit_price'\n",
    "joined_df = total_transactional_value_df.join(products_df, total_transactional_value_df.sku_id == products_df.SKU, \"inner\")\n",
    " \n",
    "# Pivot the data to create the required report\n",
    "top_performing_sku_report_df = joined_df.groupBy(\"sku_id\") \\\n",
    "    .pivot(\"store_id\") \\\n",
    "    .agg(coalesce(first(\"Total_Quantity\")))\n",
    " \n",
    "# Show the resulting DataFrame\n",
    "top_performing_sku_report_df.show()"
   ]
  }
 ],
 "metadata": {
  "kernelspec": {
   "display_name": "Python 3 (ipykernel)",
   "language": "python",
   "name": "python3"
  },
  "language_info": {
   "codemirror_mode": {
    "name": "ipython",
    "version": 3
   },
   "file_extension": ".py",
   "mimetype": "text/x-python",
   "name": "python",
   "nbconvert_exporter": "python",
   "pygments_lexer": "ipython3",
   "version": "3.9.12"
  }
 },
 "nbformat": 4,
 "nbformat_minor": 5
}
